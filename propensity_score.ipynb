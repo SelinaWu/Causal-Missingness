{
  "nbformat": 4,
  "nbformat_minor": 0,
  "metadata": {
    "colab": {
      "name": "propensity_score.ipynb",
      "provenance": [],
      "collapsed_sections": []
    },
    "kernelspec": {
      "name": "python3",
      "display_name": "Python 3"
    }
  },
  "cells": [
    {
      "cell_type": "code",
      "metadata": {
        "id": "ZHhAEugBr2ug",
        "colab_type": "code",
        "outputId": "8ec65c8a-79ba-415c-9466-91091ef993b7",
        "colab": {
          "base_uri": "https://localhost:8080/",
          "height": 121
        }
      },
      "source": [
        "from google.colab import drive\n",
        "drive.mount('/content/drive')"
      ],
      "execution_count": 1,
      "outputs": [
        {
          "output_type": "stream",
          "text": [
            "Go to this URL in a browser: https://accounts.google.com/o/oauth2/auth?client_id=947318989803-6bn6qk8qdgf4n4g3pfee6491hc0brc4i.apps.googleusercontent.com&redirect_uri=urn%3aietf%3awg%3aoauth%3a2.0%3aoob&response_type=code&scope=email%20https%3a%2f%2fwww.googleapis.com%2fauth%2fdocs.test%20https%3a%2f%2fwww.googleapis.com%2fauth%2fdrive%20https%3a%2f%2fwww.googleapis.com%2fauth%2fdrive.photos.readonly%20https%3a%2f%2fwww.googleapis.com%2fauth%2fpeopleapi.readonly\n",
            "\n",
            "Enter your authorization code:\n",
            "··········\n",
            "Mounted at /content/drive\n"
          ],
          "name": "stdout"
        }
      ]
    },
    {
      "cell_type": "code",
      "metadata": {
        "id": "fP1VLSywWGiv",
        "colab_type": "code",
        "colab": {}
      },
      "source": [
        "import pandas as pd\n",
        "import glob\n",
        "import numpy as np\n",
        "from sklearn.linear_model import LogisticRegression\n",
        "from statsmodels.formula.api import ols\n",
        "from statsmodels.stats.anova import anova_lm\n",
        "import matplotlib\n",
        "import matplotlib.pyplot as plt"
      ],
      "execution_count": 0,
      "outputs": []
    },
    {
      "cell_type": "code",
      "metadata": {
        "id": "BWHHijKwPCDm",
        "colab_type": "code",
        "colab": {}
      },
      "source": [
        "def intersect_two_normal(data1, data2, title):\n",
        "\n",
        "    def prob_value(bins, mu, sigma):\n",
        "        output = 1/(sigma * np.sqrt(2 * np.pi))\n",
        "        output *= np.exp( - (bins - mu)**2 / (2 * sigma**2))\n",
        "        return output\n",
        "    \n",
        "    # mean, s.e.\n",
        "    mu_s, sigma_s = np.mean(data1), np.std(data1)\n",
        "    mu_pos, sigma_pos = np.mean(data2), np.std(data2)\n",
        "    \n",
        "    # probability of given bins value\n",
        "    bins = np.arange(min(min(data1), min(data2)), \n",
        "                     max(max(data1), max(data2))+0.01, 0.1)\n",
        "    value_s = prob_value(bins, mu_s, sigma_s)\n",
        "    value_pos = prob_value(bins, mu_pos, sigma_pos)                                    \n",
        "\n",
        "    # calcuate overlap\n",
        "    overlap = 0\n",
        "    for i, b in enumerate(bins):\n",
        "        overlap+= min(value_s[i], value_pos[i])*0.1\n",
        "    \n",
        "    # draw plot\n",
        "    plt.hist(data1, 10, density=True)\n",
        "    plt.plot(bins, value_s, linewidth=2, color='r', label=\"data1\")\n",
        "    plt.hist(data2, 10, density=True)\n",
        "    plt.plot(bins, value_pos, linewidth=2, color='g', label=\"data2\")\n",
        "    plt.title(title)\n",
        "    plt.legend()\n",
        "    plt.show()\n",
        "    \n",
        "    return overlap\n",
        "  \n",
        "  \n",
        "def propensity_score(data, strata=5, treat_col='isTreat'):\n",
        "    '''\n",
        "        data : DataFrame, no string/object type data\n",
        "               must contains [treat_col]\n",
        "    '''\n",
        "    model = LogisticRegression(random_state=10, solver='lbfgs',\n",
        "                               multi_class='ovr')\n",
        "    \n",
        "    X = data[data.columns.difference([treat_col]+result_names)]\n",
        "    prediction = model.fit(X, data[treat_col]).predict_proba(X)  \n",
        "    model_score = model.score(X,  data[treat_col])\n",
        "    print(\"Model score:\", model_score)\n",
        "    \n",
        "    data.loc[:,'prediction1']=prediction[:,1]\n",
        "    data.loc[:,'groups']=0\n",
        "    rng = np.linspace(0, 1, strata+1) # e.g. strata is 5\n",
        "    \n",
        "    for i in range(len(rng)-1):\n",
        "        # strata left <=prediciton1< strata right\n",
        "        # group 0, 1, 2, 3, 4\n",
        "        data.loc[(data['prediction1']>=rng[i])&(data['prediction1']<rng[i+1]),'groups']=i\n",
        "        \n",
        "    return model_score, data\n",
        "\n",
        "def matching_groups(stratas_data, strata=False):\n",
        "    \n",
        "    match_by_groups = dict()\n",
        "    # traverse each group, match treat and control\n",
        "    for i in stratas_data.groups.unique():\n",
        "        # \"nrow\" number of treated items\n",
        "        treated = stratas_data.loc[(stratas_data.groups==i)\n",
        "                                  &(stratas_data.isTreat==1),:]\n",
        "        nrow = treated.shape[0]\n",
        "        # match to \"nrow\" of control items, if no control exist then skip this strata\n",
        "        controled = stratas_data.loc[(stratas_data.groups==i)&(stratas_data.isTreat==0),:]\n",
        "        if controled.shape[0]==0:\n",
        "            continue\n",
        "        matched_control = controled.sample(n=nrow, random_state=186,replace=True)\n",
        "        match_by_groups[f'group_{i}'] = pd.concat([treated, matched_control])\n",
        "\n",
        "    match_output = pd.DataFrame(columns=stratas_data.columns)\n",
        "    if not strata:  \n",
        "        for g in match_by_groups:\n",
        "          match_output = pd.concat([match_output, match_by_groups[g]])\n",
        "        return match_output\n",
        "    else:\n",
        "        return match_by_groups\n",
        "\n",
        "def find_numeric_col(df):\n",
        "    non_str_col = []\n",
        "    col_types = dict(df.dtypes)\n",
        "    for col in col_types:\n",
        "        if col_types[col]!=np.dtype('O'):\n",
        "            non_str_col.append(col)\n",
        "    return(non_str_col)\n",
        "  \n",
        "\n",
        "def add_dummy(df, need_factorize_cols):\n",
        "    new_df = df.copy()\n",
        "\n",
        "    drop_cols = []\n",
        "    for col in need_factorize_cols:\n",
        "      # if Boolean convertable\n",
        "      isBoolean = len(df[col].unique())==2\n",
        "     \n",
        "      # print(col, isBoolean)\n",
        "      if isBoolean:\n",
        "        # change into 0/1\n",
        "        new_df[col] = pd.factorize(new_df[col])[0]\n",
        "      else:\n",
        "\n",
        "        unique_cols = [str(cat).replace(\"'\",\"\").replace(\" \",\"_\").replace(\"-\",\"_\").replace(\"/\",\"_\") for cat in new_df[col].unique()]\n",
        "        new_df[unique_cols[:-1]] = pd.get_dummies(new_df[col], drop_first=True)\n",
        "        drop_cols.append(col)\n",
        "\n",
        "    new_df = new_df.drop(columns=drop_cols)\n",
        "    return new_df\n",
        "     "
      ],
      "execution_count": 0,
      "outputs": []
    },
    {
      "cell_type": "code",
      "metadata": {
        "id": "2Og2si1AQrAl",
        "colab_type": "code",
        "colab": {}
      },
      "source": [
        "def result_generation(df):\n",
        "    ## anova test\n",
        "    covariate_cols = df.columns.difference(['post_type', 'post_trust', 'condition', 'isTreat'])\n",
        "\n",
        "    print(\"\\n\\n Share =================\\n\")\n",
        "    summary = df.groupby(by = ['post_type', 'condition']).share_post.describe().reset_index()\n",
        "    treat_mean = summary.loc[(summary.condition==\"Enhanced Guidelines\")&(summary.post_type=='Fake'),'mean'].values\n",
        "    control_mean = summary.loc[(summary.condition==\"Control\")&(summary.post_type=='Fake'),'mean'].values\n",
        "    mean_effect = treat_mean - control_mean\n",
        "    mean_effect_share = mean_effect[0]\n",
        "    print(\"Mean effect: \", mean_effect_share)\n",
        "    print(summary)\n",
        "    print(\"\\n\\n\")\n",
        "    formula = 'share_post ~ C(post_type) + C(condition) + C(post_type):C(condition)'\n",
        "    model = ols(formula, df).fit()\n",
        "    share_table = anova_lm(model, typ=1)\n",
        "    # print(share_table)\n",
        "\n",
        "    print(\"\\n\\n Trust =================\\n\")\n",
        "    summary = df.groupby(by = ['post_type', 'condition']).post_trust.describe().reset_index()\n",
        "    treat_mean = summary.loc[(summary.condition==\"Enhanced Guidelines\")&(summary.post_type=='Fake'),'mean'].values\n",
        "    control_mean = summary.loc[(summary.condition==\"Control\")&(summary.post_type=='Fake'),'mean'].values\n",
        "    mean_effect = treat_mean - control_mean\n",
        "    mean_effect_trust = mean_effect[0]\n",
        "    print(\"Mean effect: \", mean_effect_trust)\n",
        "    print(summary)\n",
        "    print(\"\\n\\n\")\n",
        "    formula = 'post_trust ~ C(post_type) + C(condition) + C(post_type):C(condition)'\n",
        "    model = ols(formula, df).fit()\n",
        "    trust_table = anova_lm(model, typ=1)\n",
        "    # print(trust_table)\n",
        "\n",
        "\n",
        "    ## bootstrap\n",
        "    np.random.seed(0)\n",
        "    data_fake = df[data_clean.post_type == 'Fake']\n",
        "    bootstrap_fn = lambda x: pd.DataFrame(x.values[np.random.randint(len(x), \n",
        "                                                                     size=len(x))], \n",
        "                                          columns=x.columns)\n",
        "    bootstraps = [bootstrap_fn(data_fake) for i in range(0, 1000)]\n",
        "    \n",
        "    ## Share =================\n",
        "    mean_share_enguideline_bs = np.array([df.share_post[df.condition == 'Enhanced Guidelines'].mean() for df in bootstraps])\n",
        "    mean_share_control_bs = np.array([df.share_post[df.condition == 'Control'].mean() for df in bootstraps])\n",
        "    # test intersect_two_normal\n",
        "    # creates normal KDE to find % overlap\n",
        "    overlap = intersect_two_normal(mean_share_enguideline_bs, mean_share_control_bs, title=\"Share\")\n",
        "\n",
        "    # calculate # of control simulations below test estimate out of all control simulations\n",
        "    test_estimate = np.quantile(mean_share_enguideline_bs, 0.5)\n",
        "    p_value_s = len([i for i in mean_share_control_bs if i <= test_estimate])/len(mean_share_control_bs)\n",
        "    overlap_s = round(overlap, 4)\n",
        "    print(\"overlap is: \", overlap_s)\n",
        "    print(\"p-value is: \", p_value_s)\n",
        "\n",
        "    ## Trust =================\n",
        "    mean_trust_enguideline_bs = np.array([df.post_trust[df.condition == 'Enhanced Guidelines'].mean() for df in bootstraps])\n",
        "    mean_trust_control_bs = np.array([df.post_trust[df.condition == 'Control'].mean() for df in bootstraps])\n",
        "    # test intersect_two_normal\n",
        "    # creates normal KDE to find % overlap\n",
        "    overlap = intersect_two_normal(mean_trust_enguideline_bs, mean_trust_control_bs, title=\"Trust\")\n",
        "\n",
        "    # calculate # of control simulations below test estimate out of all control simulations\n",
        "    test_estimate = np.quantile(mean_trust_enguideline_bs, 0.5)\n",
        "    p_value_t = len([i for i in mean_trust_control_bs if i <= test_estimate])/len(mean_trust_control_bs)\n",
        "    overlap_t = round(overlap, 4)\n",
        "    print(\"overlap is: \", overlap_t)\n",
        "    print(\"p-value is: \", p_value_t)\n",
        "    \n",
        "    return mean_effect_share, mean_effect_trust, overlap_s, p_value_s, overlap_t, p_value_t"
      ],
      "execution_count": 0,
      "outputs": []
    },
    {
      "cell_type": "markdown",
      "metadata": {
        "id": "ZHgE37xjXVP2",
        "colab_type": "text"
      },
      "source": [
        "STEP 1: loading data"
      ]
    },
    {
      "cell_type": "code",
      "metadata": {
        "id": "iR9IykL1dpUc",
        "colab_type": "code",
        "colab": {}
      },
      "source": [
        "'''\n",
        "Data_GEC_clean_python_friendly.csv\n",
        "\n",
        "data_clean_missing10\n",
        "'''"
      ],
      "execution_count": 0,
      "outputs": []
    },
    {
      "cell_type": "code",
      "metadata": {
        "id": "EQxHZGlOlIsJ",
        "colab_type": "code",
        "outputId": "f27caaa2-7631-4f91-91f1-51cb072914dd",
        "colab": {
          "base_uri": "https://localhost:8080/",
          "height": 118
        }
      },
      "source": [
        "valid_data_files = glob.glob('drive/My Drive/Lutzke_2019/MNAR v2/*.csv')\n",
        "missing_data_files = [f for f in valid_data_files if \"missing\" in f ]\n",
        "missing_data_files"
      ],
      "execution_count": 15,
      "outputs": [
        {
          "output_type": "execute_result",
          "data": {
            "text/plain": [
              "['drive/My Drive/Lutzke_2019/MNAR v2/data_clean_MNAR_missing_40.csv',\n",
              " 'drive/My Drive/Lutzke_2019/MNAR v2/data_clean_MNAR_missing_50.csv',\n",
              " 'drive/My Drive/Lutzke_2019/MNAR v2/data_clean_MNAR_missing_20.csv',\n",
              " 'drive/My Drive/Lutzke_2019/MNAR v2/data_clean_MNAR_missing_10.csv',\n",
              " 'drive/My Drive/Lutzke_2019/MNAR v2/data_clean_MNAR_missing_60.csv',\n",
              " 'drive/My Drive/Lutzke_2019/MNAR v2/data_clean_MNAR_missing_30.csv']"
            ]
          },
          "metadata": {
            "tags": []
          },
          "execution_count": 15
        }
      ]
    },
    {
      "cell_type": "code",
      "metadata": {
        "id": "4nq8sueJ0bBL",
        "colab_type": "code",
        "outputId": "f6b53484-77cc-4c93-f298-f98fead834ef",
        "colab": {
          "base_uri": "https://localhost:8080/",
          "height": 1000
        }
      },
      "source": [
        "summary_data = pd.DataFrame(columns=['percentage', 'model_score', \n",
        "                                     'mean_effect_share', 'mean_effect_trust', \n",
        "                                     'overlap_share','p_value_share', \n",
        "                                     'overlap_trust','p_value_trust'])\n",
        "\n",
        "for i, curr_file in enumerate(missing_data_files): #['drive/My Drive/Lutzke_2019/Data_GEC_clean_python_friendly.csv']\n",
        "    ## load in data  \n",
        "    print(\"Analyzing file: \", curr_file)\n",
        "    data_clean = pd.read_csv(curr_file)\n",
        "    pct = int(curr_file[-6:-4]) # 0\n",
        "\n",
        "    if 'Unnamed: 0' in data_clean.columns:\n",
        "        data_clean = data_clean.drop(columns=['Unnamed: 0'])\n",
        "\n",
        "    covariate_names = [\"believe_climate_change_q\",\\\n",
        "                        \"believer_doubter\",\\\n",
        "                        \"burning_oil_co2\",\\\n",
        "                        \"nuclear_power_co2\",\\\n",
        "                        \"co2_methane\",\\\n",
        "                        \"global_co2_increase\",\\\n",
        "                        \"climate_change_human_activities\",\\\n",
        "                        \"last_century_global_increase\",\\\n",
        "                        \"today_concentration_already_occured\",\\\n",
        "                        'scientists_expect_warming_increase_melting',\\\n",
        "                        'scientists_expect_increase_extreme_events',\\\n",
        "                        'scientists_expect_increase_water_evap',\\\n",
        "                        'scientists_expect_climate_change_evenly',\\\n",
        "                        'feelings_toward_fb',\\\n",
        "                        'gender', 'age', 'education',\\\n",
        "                        'politics', 'conservative']\n",
        "\n",
        "    result_names = ['post_trust','post_type', 'condition','share_post']\n",
        "\n",
        "    input_data = data_clean.loc[(data_clean.condition=='Enhanced Guidelines')|\n",
        "                                (data_clean.condition=='Control'), \n",
        "                                covariate_names+result_names]\n",
        "    ## fill in NA as \"missing\"\n",
        "    new_col = [\"missing_\"+col for col in covariate_names]\n",
        "    values = dict(zip(covariate_names,new_col))\n",
        "    #values = \"missing\"\n",
        "    input_data = input_data.fillna(value=values)\n",
        "\n",
        "    ## one hot encoding\n",
        "    numeric_cols = find_numeric_col(input_data)\n",
        "    need_factorize_cols = list(set(covariate_names)-set(numeric_cols))\n",
        "    input_data_fact = add_dummy(input_data, need_factorize_cols)\n",
        "    #input_data_fact.to_csv(\"drive/My Drive/Lutzke_2019/MAR_data.csv\", index=False)\n",
        "    \n",
        "    input_data_fact['isTreat'] = 0\n",
        "    input_data_fact.loc[input_data_fact.condition=='Enhanced Guidelines','isTreat'] = 1\n",
        "\n",
        "    display(input_data_fact.head(2))\n",
        "\n",
        "    ## propensity score and matching\n",
        "    model_score, stratas_data = propensity_score(input_data_fact, treat_col='isTreat')\n",
        "    print(stratas_data.groupby(by=['isTreat','groups']).agg({\"Correct\":\"count\"}))\n",
        "\n",
        "    match_by_groups = matching_groups(stratas_data)\n",
        "\n",
        "    ## result\n",
        "    df = match_by_groups\n",
        "    mean_effect_share, mean_effect_trust, overlap_s, p_value_s, overlap_t, p_value_t = result_generation(df)\n",
        "\n",
        "    summary_data.loc[i,:] = [pct, model_score, mean_effect_share, \n",
        "                           mean_effect_trust, overlap_s, p_value_s, \n",
        "                           overlap_t, p_value_t]"
      ],
      "execution_count": 16,
      "outputs": [
        {
          "output_type": "stream",
          "text": [
            "Analyzing file:  drive/My Drive/Lutzke_2019/MNAR v2/data_clean_MNAR_missing_40.csv\n"
          ],
          "name": "stdout"
        },
        {
          "output_type": "display_data",
          "data": {
            "text/html": [
              "<div>\n",
              "<style scoped>\n",
              "    .dataframe tbody tr th:only-of-type {\n",
              "        vertical-align: middle;\n",
              "    }\n",
              "\n",
              "    .dataframe tbody tr th {\n",
              "        vertical-align: top;\n",
              "    }\n",
              "\n",
              "    .dataframe thead th {\n",
              "        text-align: right;\n",
              "    }\n",
              "</style>\n",
              "<table border=\"1\" class=\"dataframe\">\n",
              "  <thead>\n",
              "    <tr style=\"text-align: right;\">\n",
              "      <th></th>\n",
              "      <th>post_trust</th>\n",
              "      <th>post_type</th>\n",
              "      <th>condition</th>\n",
              "      <th>share_post</th>\n",
              "      <th>missing_politics</th>\n",
              "      <th>Republican</th>\n",
              "      <th>Democrat</th>\n",
              "      <th>Independent</th>\n",
              "      <th>No_party_not_interested_in_politics</th>\n",
              "      <th>Do_not_know</th>\n",
              "      <th>Incorrect</th>\n",
              "      <th>Correct</th>\n",
              "      <th>Believer</th>\n",
              "      <th>Doubter</th>\n",
              "      <th>missing_scientists_expect_warming_increase_melting</th>\n",
              "      <th>missing_scientists_expect_increase_water_evap</th>\n",
              "      <th>1.0</th>\n",
              "      <th>0.0</th>\n",
              "      <th>missing_feelings_toward_fb</th>\n",
              "      <th>0.1</th>\n",
              "      <th>4.4</th>\n",
              "      <th>_4.1</th>\n",
              "      <th>_2.9</th>\n",
              "      <th>5.0</th>\n",
              "      <th>2.9</th>\n",
              "      <th>_0.6</th>\n",
              "      <th>_1.3</th>\n",
              "      <th>2.3</th>\n",
              "      <th>_4.0</th>\n",
              "      <th>_1.0</th>\n",
              "      <th>2.4</th>\n",
              "      <th>0.5</th>\n",
              "      <th>_2.1</th>\n",
              "      <th>3.2</th>\n",
              "      <th>0.8</th>\n",
              "      <th>2.5</th>\n",
              "      <th>_0.3</th>\n",
              "      <th>1.7</th>\n",
              "      <th>_5.0</th>\n",
              "      <th>0.9</th>\n",
              "      <th>...</th>\n",
              "      <th>48.0</th>\n",
              "      <th>37.0</th>\n",
              "      <th>54.0</th>\n",
              "      <th>29.0</th>\n",
              "      <th>74.0</th>\n",
              "      <th>39.0</th>\n",
              "      <th>61.0</th>\n",
              "      <th>57.0</th>\n",
              "      <th>72.0</th>\n",
              "      <th>77.0</th>\n",
              "      <th>49.0</th>\n",
              "      <th>31.0</th>\n",
              "      <th>62.0</th>\n",
              "      <th>41.0</th>\n",
              "      <th>64.0</th>\n",
              "      <th>30.0</th>\n",
              "      <th>25.0</th>\n",
              "      <th>56.0</th>\n",
              "      <th>46.0</th>\n",
              "      <th>65.0</th>\n",
              "      <th>42.0</th>\n",
              "      <th>71.0</th>\n",
              "      <th>59.0</th>\n",
              "      <th>60.0</th>\n",
              "      <th>52.0</th>\n",
              "      <th>76.0</th>\n",
              "      <th>67.0</th>\n",
              "      <th>86.0</th>\n",
              "      <th>53.0</th>\n",
              "      <th>84.0</th>\n",
              "      <th>18.0</th>\n",
              "      <th>80.0</th>\n",
              "      <th>missing_nuclear_power_co2</th>\n",
              "      <th>missing_scientists_expect_climate_change_evenly</th>\n",
              "      <th>Male</th>\n",
              "      <th>missing_gender</th>\n",
              "      <th>Female</th>\n",
              "      <th>Prefer_not_to_say</th>\n",
              "      <th>missing_today_concentration_already_occured</th>\n",
              "      <th>isTreat</th>\n",
              "    </tr>\n",
              "  </thead>\n",
              "  <tbody>\n",
              "    <tr>\n",
              "      <th>0</th>\n",
              "      <td>1.50</td>\n",
              "      <td>Fake</td>\n",
              "      <td>Enhanced Guidelines</td>\n",
              "      <td>1.0</td>\n",
              "      <td>0</td>\n",
              "      <td>0</td>\n",
              "      <td>0</td>\n",
              "      <td>0</td>\n",
              "      <td>1</td>\n",
              "      <td>1</td>\n",
              "      <td>0</td>\n",
              "      <td>0</td>\n",
              "      <td>0</td>\n",
              "      <td>0</td>\n",
              "      <td>0</td>\n",
              "      <td>1</td>\n",
              "      <td>0</td>\n",
              "      <td>0</td>\n",
              "      <td>0</td>\n",
              "      <td>0</td>\n",
              "      <td>0</td>\n",
              "      <td>0</td>\n",
              "      <td>0</td>\n",
              "      <td>0</td>\n",
              "      <td>0</td>\n",
              "      <td>0</td>\n",
              "      <td>0</td>\n",
              "      <td>0</td>\n",
              "      <td>0</td>\n",
              "      <td>0</td>\n",
              "      <td>0</td>\n",
              "      <td>0</td>\n",
              "      <td>0</td>\n",
              "      <td>0</td>\n",
              "      <td>0</td>\n",
              "      <td>0</td>\n",
              "      <td>0</td>\n",
              "      <td>0</td>\n",
              "      <td>0</td>\n",
              "      <td>0</td>\n",
              "      <td>...</td>\n",
              "      <td>0</td>\n",
              "      <td>0</td>\n",
              "      <td>0</td>\n",
              "      <td>0</td>\n",
              "      <td>0</td>\n",
              "      <td>0</td>\n",
              "      <td>0</td>\n",
              "      <td>0</td>\n",
              "      <td>0</td>\n",
              "      <td>0</td>\n",
              "      <td>0</td>\n",
              "      <td>0</td>\n",
              "      <td>0</td>\n",
              "      <td>0</td>\n",
              "      <td>0</td>\n",
              "      <td>0</td>\n",
              "      <td>0</td>\n",
              "      <td>0</td>\n",
              "      <td>0</td>\n",
              "      <td>0</td>\n",
              "      <td>0</td>\n",
              "      <td>0</td>\n",
              "      <td>0</td>\n",
              "      <td>0</td>\n",
              "      <td>0</td>\n",
              "      <td>0</td>\n",
              "      <td>0</td>\n",
              "      <td>0</td>\n",
              "      <td>0</td>\n",
              "      <td>0</td>\n",
              "      <td>0</td>\n",
              "      <td>0</td>\n",
              "      <td>0</td>\n",
              "      <td>0</td>\n",
              "      <td>1</td>\n",
              "      <td>0</td>\n",
              "      <td>0</td>\n",
              "      <td>0</td>\n",
              "      <td>0</td>\n",
              "      <td>1</td>\n",
              "    </tr>\n",
              "    <tr>\n",
              "      <th>1</th>\n",
              "      <td>8.05</td>\n",
              "      <td>Fake</td>\n",
              "      <td>Enhanced Guidelines</td>\n",
              "      <td>8.0</td>\n",
              "      <td>0</td>\n",
              "      <td>0</td>\n",
              "      <td>0</td>\n",
              "      <td>0</td>\n",
              "      <td>1</td>\n",
              "      <td>0</td>\n",
              "      <td>1</td>\n",
              "      <td>0</td>\n",
              "      <td>1</td>\n",
              "      <td>0</td>\n",
              "      <td>0</td>\n",
              "      <td>0</td>\n",
              "      <td>0</td>\n",
              "      <td>0</td>\n",
              "      <td>0</td>\n",
              "      <td>0</td>\n",
              "      <td>0</td>\n",
              "      <td>0</td>\n",
              "      <td>0</td>\n",
              "      <td>0</td>\n",
              "      <td>0</td>\n",
              "      <td>0</td>\n",
              "      <td>0</td>\n",
              "      <td>0</td>\n",
              "      <td>0</td>\n",
              "      <td>0</td>\n",
              "      <td>0</td>\n",
              "      <td>0</td>\n",
              "      <td>0</td>\n",
              "      <td>0</td>\n",
              "      <td>0</td>\n",
              "      <td>0</td>\n",
              "      <td>0</td>\n",
              "      <td>0</td>\n",
              "      <td>0</td>\n",
              "      <td>0</td>\n",
              "      <td>...</td>\n",
              "      <td>0</td>\n",
              "      <td>0</td>\n",
              "      <td>0</td>\n",
              "      <td>0</td>\n",
              "      <td>0</td>\n",
              "      <td>0</td>\n",
              "      <td>0</td>\n",
              "      <td>0</td>\n",
              "      <td>0</td>\n",
              "      <td>0</td>\n",
              "      <td>0</td>\n",
              "      <td>0</td>\n",
              "      <td>0</td>\n",
              "      <td>0</td>\n",
              "      <td>0</td>\n",
              "      <td>0</td>\n",
              "      <td>0</td>\n",
              "      <td>0</td>\n",
              "      <td>0</td>\n",
              "      <td>0</td>\n",
              "      <td>0</td>\n",
              "      <td>0</td>\n",
              "      <td>0</td>\n",
              "      <td>0</td>\n",
              "      <td>0</td>\n",
              "      <td>0</td>\n",
              "      <td>0</td>\n",
              "      <td>0</td>\n",
              "      <td>0</td>\n",
              "      <td>0</td>\n",
              "      <td>0</td>\n",
              "      <td>1</td>\n",
              "      <td>0</td>\n",
              "      <td>0</td>\n",
              "      <td>1</td>\n",
              "      <td>0</td>\n",
              "      <td>0</td>\n",
              "      <td>0</td>\n",
              "      <td>0</td>\n",
              "      <td>1</td>\n",
              "    </tr>\n",
              "  </tbody>\n",
              "</table>\n",
              "<p>2 rows × 202 columns</p>\n",
              "</div>"
            ],
            "text/plain": [
              "   post_trust post_type  ... missing_today_concentration_already_occured  isTreat\n",
              "0        1.50      Fake  ...                                           0        1\n",
              "1        8.05      Fake  ...                                           0        1\n",
              "\n",
              "[2 rows x 202 columns]"
            ]
          },
          "metadata": {
            "tags": []
          }
        },
        {
          "output_type": "stream",
          "text": [
            "Model score: 0.6784565916398714\n",
            "                Correct\n",
            "isTreat groups         \n",
            "0       0            20\n",
            "        1           187\n",
            "        2           231\n",
            "        3            34\n",
            "        4             5\n",
            "1       0             4\n",
            "        1            65\n",
            "        2           210\n",
            "        3           153\n",
            "        4            24\n",
            "\n",
            "\n",
            " Share =================\n",
            "\n",
            "Mean effect:  -0.5583333333333305\n",
            "  post_type            condition  count      mean  ...  25%   50%   75%   max\n",
            "0      Fake              Control  456.0  4.333772  ...  1.0  3.20  6.25  11.0\n",
            "1      Fake  Enhanced Guidelines  456.0  3.775439  ...  1.0  2.75  6.00  11.0\n",
            "\n",
            "[2 rows x 10 columns]\n",
            "\n",
            "\n",
            "\n",
            "\n",
            "\n",
            " Trust =================\n",
            "\n",
            "Mean effect:  -0.2669956140350891\n",
            "  post_type            condition  count      mean  ...   25%    50%   75%   max\n",
            "0      Fake              Control  456.0  4.296601  ...  1.55  3.925  6.55  10.0\n",
            "1      Fake  Enhanced Guidelines  456.0  4.029605  ...  1.85  3.775  5.80  10.0\n",
            "\n",
            "[2 rows x 10 columns]\n",
            "\n",
            "\n",
            "\n"
          ],
          "name": "stdout"
        },
        {
          "output_type": "stream",
          "text": [
            "/usr/local/lib/python3.6/dist-packages/scipy/stats/_distn_infrastructure.py:901: RuntimeWarning: invalid value encountered in greater\n",
            "  return (a < x) & (x < b)\n",
            "/usr/local/lib/python3.6/dist-packages/scipy/stats/_distn_infrastructure.py:901: RuntimeWarning: invalid value encountered in less\n",
            "  return (a < x) & (x < b)\n",
            "/usr/local/lib/python3.6/dist-packages/scipy/stats/_distn_infrastructure.py:1892: RuntimeWarning: invalid value encountered in less_equal\n",
            "  cond2 = cond0 & (x <= _a)\n",
            "/usr/local/lib/python3.6/dist-packages/ipykernel_launcher.py:36: UserWarning: Boolean Series key will be reindexed to match DataFrame index.\n"
          ],
          "name": "stderr"
        },
        {
          "output_type": "display_data",
          "data": {
            "image/png": "[encoded data removed]",
            "text/plain": [
              "<Figure size 432x288 with 1 Axes>"
            ]
          },
          "metadata": {
            "tags": []
          }
        },
        {
          "output_type": "stream",
          "text": [
            "overlap is:  0.0534\n",
            "p-value is:  0.0\n"
          ],
          "name": "stdout"
        },
        {
          "output_type": "display_data",
          "data": {
            "image/png": "[encoded data removed]",
            "text/plain": [
              "<Figure size 432x288 with 1 Axes>"
            ]
          },
          "metadata": {
            "tags": []
          }
        },
        {
          "output_type": "stream",
          "text": [
            "overlap is:  0.2461\n",
            "p-value is:  0.017\n"
          ],
          "name": "stdout"
        }
      ]
    },
    {
      "cell_type": "markdown",
      "metadata": {
        "id": "8rB7WmFcXe2G",
        "colab_type": "text"
      },
      "source": [
        "STEP 2: propensity score"
      ]
    },
    {
      "cell_type": "code",
      "metadata": {
        "id": "FERTxt_6HKGn",
        "colab_type": "code",
        "outputId": "b14268c6-3829-48f5-c86b-1ff5ff69762a",
        "colab": {
          "base_uri": "https://localhost:8080/",
          "height": 235
        }
      },
      "source": [
        "stratas_data = propensity_score(input_data_fact, treat_col='isTreat')\n",
        "print(stratas_data.groupby(by=['isTreat','groups']).agg({\"Correct\":\"count\"}))\n",
        "\n",
        "match_by_groups = matching_groups(stratas_data)"
      ],
      "execution_count": 0,
      "outputs": [
        {
          "output_type": "stream",
          "text": [
            "Model score: 0.6421167484997272\n",
            "                Correct\n",
            "isTreat groups         \n",
            "0       0            24\n",
            "        1           333\n",
            "        2           467\n",
            "        3           107\n",
            "        4             3\n",
            "1       0             3\n",
            "        1           140\n",
            "        2           468\n",
            "        3           270\n",
            "        4            18\n"
          ],
          "name": "stdout"
        }
      ]
    },
    {
      "cell_type": "code",
      "metadata": {
        "id": "PyM--DZqJImA",
        "colab_type": "code",
        "colab": {}
      },
      "source": [
        "# from pymatch.Matcher import Matcher\n",
        "# test = input_data_fact[input_data_fact.isTreat == 1][input_data_fact.columns.difference(result_names)].reset_index(drop=True)\n",
        "# control = input_data_fact[input_data_fact.isTreat == 0][input_data_fact.columns.difference(result_names)].reset_index(drop=True)\n",
        "# ## initalize match model\n",
        "# m = Matcher(test, control, yvar=\"isTreat\", exclude=[])\n",
        "# np.random.seed(2019)\n",
        "\n",
        "# m.fit_scores(balance=True, nmodels=10)"
      ],
      "execution_count": 0,
      "outputs": []
    },
    {
      "cell_type": "markdown",
      "metadata": {
        "id": "OCn5lK9bX_GK",
        "colab_type": "text"
      },
      "source": [
        "STEP 3: result"
      ]
    },
    {
      "cell_type": "code",
      "metadata": {
        "id": "3Vmgml-DT8Ay",
        "colab_type": "code",
        "outputId": "94425bab-89c0-4832-ea74-3e08d3107a85",
        "colab": {
          "base_uri": "https://localhost:8080/",
          "height": 1000
        }
      },
      "source": [
        "df = match_by_groups\n",
        "result_generation(df)"
      ],
      "execution_count": 0,
      "outputs": [
        {
          "output_type": "stream",
          "text": [
            "\n",
            "\n",
            " Share =================\n",
            "\n",
            "Mean effect:  -0.6975772765246409\n",
            "  post_type            condition  count      mean  ...   25%   50%   75%   max\n",
            "0      Fake              Control  441.0  4.473016  ...  1.10  3.80  6.40  11.0\n",
            "1      Fake  Enhanced Guidelines  456.0  3.775439  ...  1.00  2.75  6.00  11.0\n",
            "2      Real              Control  458.0  5.562445  ...  2.60  6.00  8.10  11.0\n",
            "3      Real  Enhanced Guidelines  443.0  5.647178  ...  2.85  6.00  8.25  11.0\n",
            "\n",
            "[4 rows x 10 columns]\n",
            "\n",
            "\n",
            "\n",
            "\n",
            "\n",
            " Trust =================\n",
            "\n",
            "Mean effect:  -0.3333199069101287\n",
            "  post_type            condition  count      mean  ...   25%    50%   75%   max\n",
            "0      Fake              Control  441.0  4.362925  ...  2.05  4.050  6.40  10.0\n",
            "1      Fake  Enhanced Guidelines  456.0  4.029605  ...  1.85  3.775  5.80  10.0\n",
            "2      Real              Control  458.0  6.208624  ...  4.85  6.450  8.15  10.0\n",
            "3      Real  Enhanced Guidelines  443.0  6.604853  ...  5.10  6.850  8.25  10.0\n",
            "\n",
            "[4 rows x 10 columns]\n",
            "\n",
            "\n",
            "\n"
          ],
          "name": "stdout"
        },
        {
          "output_type": "stream",
          "text": [
            "/usr/local/lib/python3.6/dist-packages/ipykernel_launcher.py:33: UserWarning: Boolean Series key will be reindexed to match DataFrame index.\n"
          ],
          "name": "stderr"
        },
        {
          "output_type": "display_data",
          "data": {
            "image/png": "[encoded data removed]",
            "text/plain": [
              "<Figure size 720x360 with 1 Axes>"
            ]
          },
          "metadata": {
            "tags": []
          }
        },
        {
          "output_type": "stream",
          "text": [
            "overlap is:  0.024\n",
            "p-value is:  0.0\n"
          ],
          "name": "stdout"
        },
        {
          "output_type": "display_data",
          "data": {
            "image/png": "[encoded data removed]",
            "text/plain": [
              "<Figure size 720x360 with 1 Axes>"
            ]
          },
          "metadata": {
            "tags": []
          }
        },
        {
          "output_type": "stream",
          "text": [
            "overlap is:  0.15\n",
            "p-value is:  0.001\n"
          ],
          "name": "stdout"
        }
      ]
    },
    {
      "cell_type": "markdown",
      "metadata": {
        "id": "6Kl5Jnu3zK_O",
        "colab_type": "text"
      },
      "source": [
        "## Plot"
      ]
    },
    {
      "cell_type": "code",
      "metadata": {
        "id": "0jF6E3zCzF7_",
        "colab_type": "code",
        "colab": {}
      },
      "source": [
        "import seaborn as sns\n",
        "import matplotlib.pyplot as plt\n",
        "import numpy as np"
      ],
      "execution_count": 0,
      "outputs": []
    },
    {
      "cell_type": "code",
      "metadata": {
        "id": "L1ICL-DSjq1n",
        "colab_type": "code",
        "outputId": "929cf04c-0c8f-4f09-807f-dbe0b9ae423a",
        "colab": {
          "base_uri": "https://localhost:8080/",
          "height": 222
        }
      },
      "source": [
        "summary_data = pd.read_csv('drive/My Drive/Lutzke_2019/result_summary/MCAR_under_propensity.csv')\n",
        "summary_data.head()"
      ],
      "execution_count": 0,
      "outputs": [
        {
          "output_type": "execute_result",
          "data": {
            "text/html": [
              "<div>\n",
              "<style scoped>\n",
              "    .dataframe tbody tr th:only-of-type {\n",
              "        vertical-align: middle;\n",
              "    }\n",
              "\n",
              "    .dataframe tbody tr th {\n",
              "        vertical-align: top;\n",
              "    }\n",
              "\n",
              "    .dataframe thead th {\n",
              "        text-align: right;\n",
              "    }\n",
              "</style>\n",
              "<table border=\"1\" class=\"dataframe\">\n",
              "  <thead>\n",
              "    <tr style=\"text-align: right;\">\n",
              "      <th></th>\n",
              "      <th>percentage</th>\n",
              "      <th>model_score</th>\n",
              "      <th>mean_effect_share</th>\n",
              "      <th>mean_effect_trust</th>\n",
              "      <th>overlap_share</th>\n",
              "      <th>p_value_share</th>\n",
              "      <th>overlap_trust</th>\n",
              "      <th>p_value_trust</th>\n",
              "      <th>p_v_s_significant</th>\n",
              "      <th>p_v_t_significant</th>\n",
              "    </tr>\n",
              "  </thead>\n",
              "  <tbody>\n",
              "    <tr>\n",
              "      <th>0</th>\n",
              "      <td>10</td>\n",
              "      <td>0.647027</td>\n",
              "      <td>-0.467653</td>\n",
              "      <td>-0.181285</td>\n",
              "      <td>0.1092</td>\n",
              "      <td>0.002</td>\n",
              "      <td>0.4374</td>\n",
              "      <td>0.066</td>\n",
              "      <td>1</td>\n",
              "      <td>0</td>\n",
              "    </tr>\n",
              "    <tr>\n",
              "      <th>1</th>\n",
              "      <td>20</td>\n",
              "      <td>0.645936</td>\n",
              "      <td>-0.533267</td>\n",
              "      <td>-0.228542</td>\n",
              "      <td>0.0829</td>\n",
              "      <td>0.001</td>\n",
              "      <td>0.3545</td>\n",
              "      <td>0.034</td>\n",
              "      <td>1</td>\n",
              "      <td>1</td>\n",
              "    </tr>\n",
              "    <tr>\n",
              "      <th>2</th>\n",
              "      <td>30</td>\n",
              "      <td>0.637207</td>\n",
              "      <td>-0.514833</td>\n",
              "      <td>-0.147657</td>\n",
              "      <td>0.0885</td>\n",
              "      <td>0.000</td>\n",
              "      <td>0.5324</td>\n",
              "      <td>0.105</td>\n",
              "      <td>1</td>\n",
              "      <td>0</td>\n",
              "    </tr>\n",
              "    <tr>\n",
              "      <th>3</th>\n",
              "      <td>40</td>\n",
              "      <td>0.636116</td>\n",
              "      <td>-0.581901</td>\n",
              "      <td>-0.320165</td>\n",
              "      <td>0.0564</td>\n",
              "      <td>0.000</td>\n",
              "      <td>0.1988</td>\n",
              "      <td>0.004</td>\n",
              "      <td>1</td>\n",
              "      <td>1</td>\n",
              "    </tr>\n",
              "    <tr>\n",
              "      <th>4</th>\n",
              "      <td>50</td>\n",
              "      <td>0.636116</td>\n",
              "      <td>-0.511256</td>\n",
              "      <td>-0.282765</td>\n",
              "      <td>0.0782</td>\n",
              "      <td>0.000</td>\n",
              "      <td>0.2300</td>\n",
              "      <td>0.010</td>\n",
              "      <td>1</td>\n",
              "      <td>1</td>\n",
              "    </tr>\n",
              "  </tbody>\n",
              "</table>\n",
              "</div>"
            ],
            "text/plain": [
              "   percentage  model_score  ...  p_v_s_significant  p_v_t_significant\n",
              "0          10     0.647027  ...                  1                  0\n",
              "1          20     0.645936  ...                  1                  1\n",
              "2          30     0.637207  ...                  1                  0\n",
              "3          40     0.636116  ...                  1                  1\n",
              "4          50     0.636116  ...                  1                  1\n",
              "\n",
              "[5 rows x 10 columns]"
            ]
          },
          "metadata": {
            "tags": []
          },
          "execution_count": 29
        }
      ]
    },
    {
      "cell_type": "code",
      "metadata": {
        "id": "f04Os-fz017O",
        "colab_type": "code",
        "outputId": "0c5288b6-79c8-4f4c-e2f2-ed96b9b0d990",
        "colab": {
          "base_uri": "https://localhost:8080/",
          "height": 233
        }
      },
      "source": [
        "summary_data = summary_data.sort_values(by=['percentage']).reset_index(drop=True)\n",
        "summary_data"
      ],
      "execution_count": 0,
      "outputs": [
        {
          "output_type": "execute_result",
          "data": {
            "text/html": [
              "<div>\n",
              "<style scoped>\n",
              "    .dataframe tbody tr th:only-of-type {\n",
              "        vertical-align: middle;\n",
              "    }\n",
              "\n",
              "    .dataframe tbody tr th {\n",
              "        vertical-align: top;\n",
              "    }\n",
              "\n",
              "    .dataframe thead th {\n",
              "        text-align: right;\n",
              "    }\n",
              "</style>\n",
              "<table border=\"1\" class=\"dataframe\">\n",
              "  <thead>\n",
              "    <tr style=\"text-align: right;\">\n",
              "      <th></th>\n",
              "      <th>percentage</th>\n",
              "      <th>model_score</th>\n",
              "      <th>mean_effect_share</th>\n",
              "      <th>mean_effect_trust</th>\n",
              "      <th>overlap_share</th>\n",
              "      <th>p_value_share</th>\n",
              "      <th>overlap_trust</th>\n",
              "      <th>p_value_trust</th>\n",
              "    </tr>\n",
              "  </thead>\n",
              "  <tbody>\n",
              "    <tr>\n",
              "      <th>0</th>\n",
              "      <td>10</td>\n",
              "      <td>0.702036</td>\n",
              "      <td>-0.465132</td>\n",
              "      <td>-0.187939</td>\n",
              "      <td>0.1032</td>\n",
              "      <td>0.001</td>\n",
              "      <td>0.4083</td>\n",
              "      <td>0.056</td>\n",
              "    </tr>\n",
              "    <tr>\n",
              "      <th>1</th>\n",
              "      <td>20</td>\n",
              "      <td>0.696677</td>\n",
              "      <td>-0.594518</td>\n",
              "      <td>-0.219737</td>\n",
              "      <td>0.0367</td>\n",
              "      <td>0</td>\n",
              "      <td>0.308</td>\n",
              "      <td>0.026</td>\n",
              "    </tr>\n",
              "    <tr>\n",
              "      <th>2</th>\n",
              "      <td>30</td>\n",
              "      <td>0.690247</td>\n",
              "      <td>-0.732018</td>\n",
              "      <td>-0.373465</td>\n",
              "      <td>0.0139</td>\n",
              "      <td>0</td>\n",
              "      <td>0.1192</td>\n",
              "      <td>0</td>\n",
              "    </tr>\n",
              "    <tr>\n",
              "      <th>3</th>\n",
              "      <td>40</td>\n",
              "      <td>0.678457</td>\n",
              "      <td>-0.283991</td>\n",
              "      <td>-0.155702</td>\n",
              "      <td>0.3066</td>\n",
              "      <td>0.029</td>\n",
              "      <td>0.5533</td>\n",
              "      <td>0.133</td>\n",
              "    </tr>\n",
              "    <tr>\n",
              "      <th>4</th>\n",
              "      <td>50</td>\n",
              "      <td>0.679528</td>\n",
              "      <td>-0.751316</td>\n",
              "      <td>-0.130373</td>\n",
              "      <td>0.0106</td>\n",
              "      <td>0</td>\n",
              "      <td>0.5846</td>\n",
              "      <td>0.141</td>\n",
              "    </tr>\n",
              "    <tr>\n",
              "      <th>5</th>\n",
              "      <td>60</td>\n",
              "      <td>0.65702</td>\n",
              "      <td>-0.473154</td>\n",
              "      <td>-0.108501</td>\n",
              "      <td>0.1024</td>\n",
              "      <td>0</td>\n",
              "      <td>0.6216</td>\n",
              "      <td>0.17</td>\n",
              "    </tr>\n",
              "  </tbody>\n",
              "</table>\n",
              "</div>"
            ],
            "text/plain": [
              "  percentage model_score  ... overlap_trust p_value_trust\n",
              "0         10    0.702036  ...        0.4083         0.056\n",
              "1         20    0.696677  ...         0.308         0.026\n",
              "2         30    0.690247  ...        0.1192             0\n",
              "3         40    0.678457  ...        0.5533         0.133\n",
              "4         50    0.679528  ...        0.5846         0.141\n",
              "5         60     0.65702  ...        0.6216          0.17\n",
              "\n",
              "[6 rows x 8 columns]"
            ]
          },
          "metadata": {
            "tags": []
          },
          "execution_count": 25
        }
      ]
    },
    {
      "cell_type": "code",
      "metadata": {
        "id": "aA5sqX4dzQHn",
        "colab_type": "code",
        "outputId": "688d982c-3280-4720-801f-a71ad5c66ed9",
        "colab": {
          "base_uri": "https://localhost:8080/",
          "height": 359
        }
      },
      "source": [
        "fig, ax = plt.subplots(figsize=(8,5))\n",
        "sns.set()\n",
        "plt.plot(summary_data.percentage, summary_data.model_score)\n",
        "plt.xlabel(\"Missing Percentage in %\")\n",
        "plt.ylabel(\"PS Model Score\")\n",
        "plt.title(\"Model Score with k% Missing Data\", fontsize=18)\n",
        "plt.show()"
      ],
      "execution_count": 0,
      "outputs": [
        {
          "output_type": "display_data",
          "data": {
            "image/png": "[encoded data removed]",
            "text/plain": [
              "<Figure size 576x360 with 1 Axes>"
            ]
          },
          "metadata": {
            "tags": []
          }
        }
      ]
    },
    {
      "cell_type": "code",
      "metadata": {
        "id": "iaLCYmyl4vNS",
        "colab_type": "code",
        "colab": {}
      },
      "source": [
        "def plot_mean_and_CI(mean, lb, ub, color_mean=None, color_shading=None):\n",
        "    # plot the mean on top\n",
        "    plt.plot(mean, color_mean)\n",
        "    # plot the shaded range of the confidence intervals\n",
        "    plt.fill_between(mean, ub, lb,color=color_shading, alpha=.5)\n",
        "    "
      ],
      "execution_count": 0,
      "outputs": []
    },
    {
      "cell_type": "code",
      "metadata": {
        "id": "QNTF4W6s4zcG",
        "colab_type": "code",
        "colab": {}
      },
      "source": [
        "def fmt(x, pos):\n",
        "    a, b = '{:.2e}'.format(x).split('e')\n",
        "    b = int(b)\n",
        "    a = a[:-3]\n",
        "    return r'${} \\times 10^{{{}}}$'.format(a, b)\n"
      ],
      "execution_count": 0,
      "outputs": []
    },
    {
      "cell_type": "code",
      "metadata": {
        "id": "0Brzaih2EP2-",
        "colab_type": "code",
        "outputId": "8be06723-42e4-43a1-f911-31eb4f9675bf",
        "colab": {
          "base_uri": "https://localhost:8080/",
          "height": 253
        }
      },
      "source": [
        "summary_data['p_v_s_significant'] = summary_data.p_value_share<0.05 \n",
        "summary_data['p_v_s_significant'] =summary_data['p_v_s_significant'].astype(int)\n",
        "summary_data['p_v_t_significant'] = summary_data.p_value_trust<0.05 \n",
        "summary_data['p_v_t_significant'] = summary_data['p_v_t_significant'].astype(int)\n",
        "summary_data"
      ],
      "execution_count": 0,
      "outputs": [
        {
          "output_type": "execute_result",
          "data": {
            "text/html": [
              "<div>\n",
              "<style scoped>\n",
              "    .dataframe tbody tr th:only-of-type {\n",
              "        vertical-align: middle;\n",
              "    }\n",
              "\n",
              "    .dataframe tbody tr th {\n",
              "        vertical-align: top;\n",
              "    }\n",
              "\n",
              "    .dataframe thead th {\n",
              "        text-align: right;\n",
              "    }\n",
              "</style>\n",
              "<table border=\"1\" class=\"dataframe\">\n",
              "  <thead>\n",
              "    <tr style=\"text-align: right;\">\n",
              "      <th></th>\n",
              "      <th>percentage</th>\n",
              "      <th>model_score</th>\n",
              "      <th>mean_effect_share</th>\n",
              "      <th>mean_effect_trust</th>\n",
              "      <th>overlap_share</th>\n",
              "      <th>p_value_share</th>\n",
              "      <th>overlap_trust</th>\n",
              "      <th>p_value_trust</th>\n",
              "      <th>p_v_s_significant</th>\n",
              "      <th>p_v_t_significant</th>\n",
              "    </tr>\n",
              "  </thead>\n",
              "  <tbody>\n",
              "    <tr>\n",
              "      <th>0</th>\n",
              "      <td>10</td>\n",
              "      <td>0.702036</td>\n",
              "      <td>-0.465132</td>\n",
              "      <td>-0.187939</td>\n",
              "      <td>0.1032</td>\n",
              "      <td>0.001</td>\n",
              "      <td>0.4083</td>\n",
              "      <td>0.056</td>\n",
              "      <td>1</td>\n",
              "      <td>0</td>\n",
              "    </tr>\n",
              "    <tr>\n",
              "      <th>1</th>\n",
              "      <td>20</td>\n",
              "      <td>0.696677</td>\n",
              "      <td>-0.594518</td>\n",
              "      <td>-0.219737</td>\n",
              "      <td>0.0367</td>\n",
              "      <td>0</td>\n",
              "      <td>0.308</td>\n",
              "      <td>0.026</td>\n",
              "      <td>1</td>\n",
              "      <td>1</td>\n",
              "    </tr>\n",
              "    <tr>\n",
              "      <th>2</th>\n",
              "      <td>30</td>\n",
              "      <td>0.690247</td>\n",
              "      <td>-0.732018</td>\n",
              "      <td>-0.373465</td>\n",
              "      <td>0.0139</td>\n",
              "      <td>0</td>\n",
              "      <td>0.1192</td>\n",
              "      <td>0</td>\n",
              "      <td>1</td>\n",
              "      <td>1</td>\n",
              "    </tr>\n",
              "    <tr>\n",
              "      <th>3</th>\n",
              "      <td>40</td>\n",
              "      <td>0.678457</td>\n",
              "      <td>-0.283991</td>\n",
              "      <td>-0.155702</td>\n",
              "      <td>0.3066</td>\n",
              "      <td>0.029</td>\n",
              "      <td>0.5533</td>\n",
              "      <td>0.133</td>\n",
              "      <td>1</td>\n",
              "      <td>0</td>\n",
              "    </tr>\n",
              "    <tr>\n",
              "      <th>4</th>\n",
              "      <td>50</td>\n",
              "      <td>0.679528</td>\n",
              "      <td>-0.751316</td>\n",
              "      <td>-0.130373</td>\n",
              "      <td>0.0106</td>\n",
              "      <td>0</td>\n",
              "      <td>0.5846</td>\n",
              "      <td>0.141</td>\n",
              "      <td>1</td>\n",
              "      <td>0</td>\n",
              "    </tr>\n",
              "    <tr>\n",
              "      <th>5</th>\n",
              "      <td>60</td>\n",
              "      <td>0.65702</td>\n",
              "      <td>-0.473154</td>\n",
              "      <td>-0.108501</td>\n",
              "      <td>0.1024</td>\n",
              "      <td>0</td>\n",
              "      <td>0.6216</td>\n",
              "      <td>0.17</td>\n",
              "      <td>1</td>\n",
              "      <td>0</td>\n",
              "    </tr>\n",
              "  </tbody>\n",
              "</table>\n",
              "</div>"
            ],
            "text/plain": [
              "  percentage model_score  ... p_v_s_significant p_v_t_significant\n",
              "0         10    0.702036  ...                 1                 0\n",
              "1         20    0.696677  ...                 1                 1\n",
              "2         30    0.690247  ...                 1                 1\n",
              "3         40    0.678457  ...                 1                 0\n",
              "4         50    0.679528  ...                 1                 0\n",
              "5         60     0.65702  ...                 1                 0\n",
              "\n",
              "[6 rows x 10 columns]"
            ]
          },
          "metadata": {
            "tags": []
          },
          "execution_count": 27
        }
      ]
    },
    {
      "cell_type": "code",
      "metadata": {
        "id": "9cRnnTns2i2Z",
        "colab_type": "code",
        "outputId": "a228c427-9d9b-4f64-a480-391e275a1abc",
        "colab": {
          "base_uri": "https://localhost:8080/",
          "height": 359
        }
      },
      "source": [
        "\n",
        "fig, ax = plt.subplots(figsize=(10,5))\n",
        "sns.set()\n",
        "sc = plt.scatter([summary_data.percentage,summary_data.percentage], \n",
        "                 [summary_data.mean_effect_share,summary_data.mean_effect_trust], s=[70,70], \n",
        "                 c=[summary_data.p_v_s_significant,summary_data.p_v_t_significant], cmap=\"Spectral\")\n",
        "plt.plot(summary_data.percentage, summary_data.mean_effect_share, c=\"b\", label=\"Share\")\n",
        "\n",
        "plt.plot(summary_data.percentage, summary_data.mean_effect_trust, c=\"orange\", label=\"Trust\")\n",
        "plt.axhline(y=3.775439 - 4.506918, \n",
        "            ls=\"--\", color=\"grey\", label=\"Share in Complete Data\")\n",
        "plt.axhline(y=4.029605- 4.276625, \n",
        "            ls=\"--\", color=\"orange\", label=\"Trust in Complete Data\")\n",
        "plt.xlabel(\"Missing Percentage in %\")\n",
        "plt.ylabel(\"Mean Effect\")\n",
        "plt.legend()\n",
        "plt.title(\"Mean Effect on Share/Trust\", fontsize=18)\n",
        "plt.show()"
      ],
      "execution_count": 0,
      "outputs": [
        {
          "output_type": "display_data",
          "data": {
            "image/png": "[encoded data removed]",
            "text/plain": [
              "<Figure size 720x360 with 1 Axes>"
            ]
          },
          "metadata": {
            "tags": []
          }
        }
      ]
    },
    {
      "cell_type": "code",
      "metadata": {
        "id": "hvHioECP3chq",
        "colab_type": "code",
        "colab": {}
      },
      "source": [
        "summary_data.to_csv('drive/My Drive/Lutzke_2019/MNAR_v2_under_propensity.csv', index=False)"
      ],
      "execution_count": 0,
      "outputs": []
    },
    {
      "cell_type": "code",
      "metadata": {
        "id": "XyGunBvHIrZ7",
        "colab_type": "code",
        "colab": {}
      },
      "source": [
        ""
      ],
      "execution_count": 0,
      "outputs": []
    }
  ]
}