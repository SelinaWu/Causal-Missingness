{
  "nbformat": 4,
  "nbformat_minor": 0,
  "metadata": {
    "colab": {
      "name": "Causal Inference Final Project Base Case.ipynb",
      "provenance": [],
      "collapsed_sections": [],
      "toc_visible": true
    },
    "kernelspec": {
      "name": "python3",
      "display_name": "Python 3"
    }
  },
  "cells": [
    {
      "cell_type": "markdown",
      "metadata": {
        "id": "QwxuqovnbgeX",
        "colab_type": "text"
      },
      "source": [
        "# Replication of Lutzke (2019)\n",
        "\n",
        "Replicating effect as baseline case.\n",
        "\n",
        "There were many effects presented in this paper but I will aim to only investigate these significant causal quantities of interests for simplicity's sake:\n",
        "\n",
        "- What is the enhanced guideline's treatment effect on reducing likelihood to share a fake news facebook post? (share_post)\n",
        "- What is the enhanced guideline's treatment effect on reducing the trust in a fake news facebook post? (trust_post)\n",
        "\n",
        "We will start however by trying to replicate the main effects presented as a way to fact check the paper and the dataset."
      ]
    },
    {
      "cell_type": "code",
      "metadata": {
        "id": "TgTtBViObDUb",
        "colab_type": "code",
        "colab": {}
      },
      "source": [
        "# imports\n",
        "import numpy as np\n",
        "import pandas as pd\n",
        "import matplotlib\n",
        "import matplotlib.pyplot as plt\n",
        "import statsmodels.api as sm\n",
        "from statsmodels.formula.api import ols\n",
        "from statsmodels.stats.anova import anova_lm\n",
        "from sklearn.utils import resample\n"
      ],
      "execution_count": 0,
      "outputs": []
    },
    {
      "cell_type": "code",
      "metadata": {
        "id": "48ZXt7JjcNla",
        "colab_type": "code",
        "outputId": "90e10908-9d0e-49d4-97cd-a0407b6982e0",
        "colab": {
          "base_uri": "https://localhost:8080/",
          "height": 137
        }
      },
      "source": [
        "from google.colab import drive\n",
        "drive.mount('/content/drive')"
      ],
      "execution_count": 0,
      "outputs": [
        {
          "output_type": "stream",
          "text": [
            "Go to this URL in a browser: https://accounts.google.com/o/oauth2/auth?client_id=947318989803-6bn6qk8qdgf4n4g3pfee6491hc0brc4i.apps.googleusercontent.com&redirect_uri=urn%3aietf%3awg%3aoauth%3a2.0%3aoob&response_type=code&scope=email%20https%3a%2f%2fwww.googleapis.com%2fauth%2fdocs.test%20https%3a%2f%2fwww.googleapis.com%2fauth%2fdrive%20https%3a%2f%2fwww.googleapis.com%2fauth%2fdrive.photos.readonly%20https%3a%2f%2fwww.googleapis.com%2fauth%2fpeopleapi.readonly\n",
            "\n",
            "Enter your authorization code:\n",
            "··········\n",
            "Mounted at /content/drive\n",
            "Drive already mounted at /content/drive; to attempt to forcibly remount, call drive.mount(\"/content/drive\", force_remount=True).\n"
          ],
          "name": "stdout"
        }
      ]
    },
    {
      "cell_type": "code",
      "metadata": {
        "id": "HcR6Fny3ezjK",
        "colab_type": "code",
        "outputId": "50f9f0b5-be57-4e38-a4ea-816919fc189d",
        "colab": {
          "base_uri": "https://localhost:8080/",
          "height": 1000
        }
      },
      "source": [
        "data_raw = pd.read_csv('drive/My Drive/Causal Inference Project/Lutzke_2019/Data_GEC.csv', encoding='ISO-8859-1')\n",
        "\n",
        "print(data_raw.columns)\n",
        "data_raw.describe()\n",
        "data_raw.dtypes"
      ],
      "execution_count": 0,
      "outputs": [
        {
          "output_type": "stream",
          "text": [
            "Index(['Deleted Responses', 'Condition', 'Article', 'Consent', 'Consent2',\n",
            "       'HaveFacebook?', 'Believe in climate change?', 'Believer or Doubter',\n",
            "       'Post trustworthy?', 'Post accurate?', 'Would you like the post?',\n",
            "       'Would you share the post?', 'Recognize source?',\n",
            "       'Burning oil produces CO2',\n",
            "       'Nuclear power plants emit CO2Êduring operation.',\n",
            "       'At the same quantity, CO2Êis more harmful to the climate than methane.Ê',\n",
            "       'The global CO2Êconcentration in the atmosphere has increased during the past 250 years.Ê',\n",
            "       'Climate change is mainly caused by human activities.',\n",
            "       'The last century's global increase in temperature was the largest during the past 1,000 years.',\n",
            "       'TodayÕs global CO2Êconcentration in the atmosphere has already occurred in the past 650,000 years.',\n",
            "       'Climate scientists expect a warmer climate to increase the melting of polar ice, which will lead to an overall rise of the sea level.',\n",
            "       'Climate scientists expect an increase in extreme events such as droughts, floods and storms.',\n",
            "       'Climate scientists expect a warmer climate to increase water evaporation, which will lead to an overall decrease of the sea level.',\n",
            "       'Climate scientists expect the climate to change evenly all over the world.',\n",
            "       'Feelings Toward Facebook', 'Gender', 'Gender_TEXT', 'Age', 'Education',\n",
            "       'Politics', 'Politics_TEXT', 'Conservative'],\n",
            "      dtype='object')\n"
          ],
          "name": "stdout"
        },
        {
          "output_type": "execute_result",
          "data": {
            "text/plain": [
              "Deleted Responses                                                                                                                         object\n",
              "Condition                                                                                                                                 object\n",
              "Article                                                                                                                                   object\n",
              "Consent                                                                                                                                   object\n",
              "Consent2                                                                                                                                  object\n",
              "HaveFacebook?                                                                                                                             object\n",
              "Believe in climate change?                                                                                                                object\n",
              "Believer or Doubter                                                                                                                       object\n",
              "Post trustworthy?                                                                                                                        float64\n",
              "Post accurate?                                                                                                                           float64\n",
              "Would you like the post?                                                                                                                 float64\n",
              "Would you share the post?                                                                                                                float64\n",
              "Recognize source?                                                                                                                         object\n",
              "Burning oil produces CO2                                                                                                                  object\n",
              "Nuclear power plants emit CO2Êduring operation.                                                                                           object\n",
              "At the same quantity, CO2Êis more harmful to the climate than methane.Ê                                                                   object\n",
              "The global CO2Êconcentration in the atmosphere has increased during the past 250 years.Ê                                                  object\n",
              "Climate change is mainly caused by human activities.                                                                                      object\n",
              "The last century's global increase in temperature was the largest during the past 1,000 years.                                            object\n",
              "TodayÕs global CO2Êconcentration in the atmosphere has already occurred in the past 650,000 years.                                        object\n",
              "Climate scientists expect a warmer climate to increase the melting of polar ice, which will lead to an overall rise of the sea level.     object\n",
              "Climate scientists expect an increase in extreme events such as droughts, floods and storms.                                              object\n",
              "Climate scientists expect a warmer climate to increase water evaporation, which will lead to an overall decrease of the sea level.        object\n",
              "Climate scientists expect the climate to change evenly all over the world.                                                                object\n",
              "Feelings Toward Facebook                                                                                                                 float64\n",
              "Gender                                                                                                                                    object\n",
              "Gender_TEXT                                                                                                                               object\n",
              "Age                                                                                                                                      float64\n",
              "Education                                                                                                                                 object\n",
              "Politics                                                                                                                                  object\n",
              "Politics_TEXT                                                                                                                             object\n",
              "Conservative                                                                                                                              object\n",
              "dtype: object"
            ]
          },
          "metadata": {
            "tags": []
          },
          "execution_count": 3
        },
        {
          "output_type": "stream",
          "text": [
            "Index(['Deleted Responses', 'Condition', 'Article', 'Consent', 'Consent2',\n",
            "       'HaveFacebook?', 'Believe in climate change?', 'Believer or Doubter',\n",
            "       'Post trustworthy?', 'Post accurate?', 'Would you like the post?',\n",
            "       'Would you share the post?', 'Recognize source?',\n",
            "       'Burning oil produces CO2',\n",
            "       'Nuclear power plants emit CO2Êduring operation.',\n",
            "       'At the same quantity, CO2Êis more harmful to the climate than methane.Ê',\n",
            "       'The global CO2Êconcentration in the atmosphere has increased during the past 250 years.Ê',\n",
            "       'Climate change is mainly caused by human activities.',\n",
            "       'The last century's global increase in temperature was the largest during the past 1,000 years.',\n",
            "       'TodayÕs global CO2Êconcentration in the atmosphere has already occurred in the past 650,000 years.',\n",
            "       'Climate scientists expect a warmer climate to increase the melting of polar ice, which will lead to an overall rise of the sea level.',\n",
            "       'Climate scientists expect an increase in extreme events such as droughts, floods and storms.',\n",
            "       'Climate scientists expect a warmer climate to increase water evaporation, which will lead to an overall decrease of the sea level.',\n",
            "       'Climate scientists expect the climate to change evenly all over the world.',\n",
            "       'Feelings Toward Facebook', 'Gender', 'Gender_TEXT', 'Age', 'Education',\n",
            "       'Politics', 'Politics_TEXT', 'Conservative'],\n",
            "      dtype='object')\n"
          ],
          "name": "stdout"
        },
        {
          "output_type": "execute_result",
          "data": {
            "text/plain": [
              "Deleted Responses                                                                                                                         object\n",
              "Condition                                                                                                                                 object\n",
              "Article                                                                                                                                   object\n",
              "Consent                                                                                                                                   object\n",
              "Consent2                                                                                                                                  object\n",
              "HaveFacebook?                                                                                                                             object\n",
              "Believe in climate change?                                                                                                                object\n",
              "Believer or Doubter                                                                                                                       object\n",
              "Post trustworthy?                                                                                                                        float64\n",
              "Post accurate?                                                                                                                           float64\n",
              "Would you like the post?                                                                                                                 float64\n",
              "Would you share the post?                                                                                                                float64\n",
              "Recognize source?                                                                                                                         object\n",
              "Burning oil produces CO2                                                                                                                  object\n",
              "Nuclear power plants emit CO2Êduring operation.                                                                                           object\n",
              "At the same quantity, CO2Êis more harmful to the climate than methane.Ê                                                                   object\n",
              "The global CO2Êconcentration in the atmosphere has increased during the past 250 years.Ê                                                  object\n",
              "Climate change is mainly caused by human activities.                                                                                      object\n",
              "The last century's global increase in temperature was the largest during the past 1,000 years.                                            object\n",
              "TodayÕs global CO2Êconcentration in the atmosphere has already occurred in the past 650,000 years.                                        object\n",
              "Climate scientists expect a warmer climate to increase the melting of polar ice, which will lead to an overall rise of the sea level.     object\n",
              "Climate scientists expect an increase in extreme events such as droughts, floods and storms.                                              object\n",
              "Climate scientists expect a warmer climate to increase water evaporation, which will lead to an overall decrease of the sea level.        object\n",
              "Climate scientists expect the climate to change evenly all over the world.                                                                object\n",
              "Feelings Toward Facebook                                                                                                                 float64\n",
              "Gender                                                                                                                                    object\n",
              "Gender_TEXT                                                                                                                               object\n",
              "Age                                                                                                                                      float64\n",
              "Education                                                                                                                                 object\n",
              "Politics                                                                                                                                  object\n",
              "Politics_TEXT                                                                                                                             object\n",
              "Conservative                                                                                                                              object\n",
              "dtype: object"
            ]
          },
          "metadata": {
            "tags": []
          },
          "execution_count": 11
        }
      ]
    },
    {
      "cell_type": "code",
      "metadata": {
        "id": "U0nJJcYRCQON",
        "colab_type": "code",
        "outputId": "48122328-7874-4fe1-c34c-7c252236896c",
        "colab": {
          "base_uri": "https://localhost:8080/",
          "height": 468
        }
      },
      "source": [
        "# Rename columns\n",
        "names = ['deleted_responses', 'condition', 'article', 'consent', 'consent2', 'have_facebook_q', 'believe_climate_change_q',\\\n",
        "         'believer_doubter', 'post_trustworthy', 'post_accurate', 'like_post', 'share_post', \\\n",
        "         'recognize_source', 'burning_oil_co2', 'nuclear_power_co2', \\\n",
        "         'co2_methane', 'global_co2_increase', 'climate_change_human_activities',\\\n",
        "         'last_century_global_increase', 'today_concentration_already_occured', \\\n",
        "         'scientists_expect_warming_increase_melting',\\\n",
        "         'scientists_expect_increase_extreme_events',\\\n",
        "         'scientists_expect_increase_water_evap',\\\n",
        "         'scientists_expect_climate_change_evenly',\\\n",
        "         'feelings_toward_fb', 'gender', 'gender_text',\\\n",
        "         'age', 'education', 'politics',\\\n",
        "         'politics_text', 'conservative']\n",
        "data_clean = data_raw.copy()\n",
        "data_clean.columns = names\n",
        "data_clean.to_csv('drive/My Drive/Causal Inference Project/Lutzke_2019/Data_GEC_python_friendly.csv')\n",
        "# Remove deleted responses (keep those with NA in deleted_responses)\n",
        "data_clean = data_clean[data_clean['deleted_responses'].isna()]\n",
        "# Create post_type\n",
        "data_clean = data_clean.assign(\\\n",
        "    post_type = lambda dataframe: dataframe['article'].\\\n",
        "    map(lambda article:\\\n",
        "        'Fake' if article == 'Breitbart' or\\\n",
        "        article == 'Natural News' or\\\n",
        "        article == 'InfoWars' \\\n",
        "        else 'Real'))\n",
        "print(data_clean.columns)\n",
        "data_clean.post_type.astype('category')\n",
        "data_clean.condition.astype('category')\n",
        "data_clean.shape"
      ],
      "execution_count": 0,
      "outputs": [
        {
          "output_type": "stream",
          "text": [
            "Index(['deleted_responses', 'condition', 'article', 'consent', 'consent2',\n",
            "       'have_facebook_q', 'believe_climate_change_q', 'believer_doubter',\n",
            "       'post_trustworthy', 'post_accurate', 'like_post', 'share_post',\n",
            "       'recognize_source', 'burning_oil_co2', 'nuclear_power_co2',\n",
            "       'co2_methane', 'global_co2_increase', 'climate_change_human_activities',\n",
            "       'last_century_global_increase', 'today_concentration_already_occured',\n",
            "       'scientists_expect_warming_increase_melting',\n",
            "       'scientists_expect_increase_extreme_events',\n",
            "       'scientists_expect_increase_water_evap',\n",
            "       'scientists_expect_climate_change_evenly', 'feelings_toward_fb',\n",
            "       'gender', 'gender_text', 'age', 'education', 'politics',\n",
            "       'politics_text', 'conservative', 'post_type'],\n",
            "      dtype='object')\n"
          ],
          "name": "stdout"
        },
        {
          "output_type": "execute_result",
          "data": {
            "text/plain": [
              "(2750, 33)"
            ]
          },
          "metadata": {
            "tags": []
          },
          "execution_count": 4
        },
        {
          "output_type": "stream",
          "text": [
            "Index(['deleted_responses', 'condition', 'article', 'consent', 'consent2',\n",
            "       'have_facebook_q', 'believe_climate_change_q', 'believer_doubter',\n",
            "       'post_trustworthy', 'post_accurate', 'like_post', 'share_post',\n",
            "       'recognize_source', 'burning_oil_co2', 'nuclear_power_co2',\n",
            "       'co2_methane', 'global_co2_increase', 'climate_change_human_activities',\n",
            "       'last_century_global_increase', 'today_concentration_already_occured',\n",
            "       'scientists_expect_warming_increase_melting',\n",
            "       'scientists_expect_increase_extreme_events',\n",
            "       'scientists_expect_increase_water_evap',\n",
            "       'scientists_expect_climate_change_evenly', 'feelings_toward_fb',\n",
            "       'gender', 'gender_text', 'age', 'education', 'politics',\n",
            "       'politics_text', 'conservative', 'post_type'],\n",
            "      dtype='object')\n"
          ],
          "name": "stdout"
        },
        {
          "output_type": "execute_result",
          "data": {
            "text/plain": [
              "(2750, 33)"
            ]
          },
          "metadata": {
            "tags": []
          },
          "execution_count": 12
        }
      ]
    },
    {
      "cell_type": "code",
      "metadata": {
        "id": "2rRDK6ybQoMB",
        "colab_type": "code",
        "outputId": "2ce620d8-b936-4567-f826-ed93b0da4fe5",
        "colab": {
          "base_uri": "https://localhost:8080/",
          "height": 655
        }
      },
      "source": [
        "print(set(data_clean[data_clean.post_type == 'Fake'].article))\n",
        "print(set(data_clean[data_clean.post_type == 'Real'].article))\n",
        "print(set(data_clean.condition))\n",
        "data_clean.describe()"
      ],
      "execution_count": 0,
      "outputs": [
        {
          "output_type": "stream",
          "text": [
            "{'Breitbart', 'InfoWars', 'Natural News'}\n",
            "{'NASA', 'Scientific American', 'USA Today'}\n",
            "{'Control', 'Enhanced Guidelines', 'Guidelines'}\n"
          ],
          "name": "stdout"
        },
        {
          "output_type": "execute_result",
          "data": {
            "text/html": [
              "<div>\n",
              "<style scoped>\n",
              "    .dataframe tbody tr th:only-of-type {\n",
              "        vertical-align: middle;\n",
              "    }\n",
              "\n",
              "    .dataframe tbody tr th {\n",
              "        vertical-align: top;\n",
              "    }\n",
              "\n",
              "    .dataframe thead th {\n",
              "        text-align: right;\n",
              "    }\n",
              "</style>\n",
              "<table border=\"1\" class=\"dataframe\">\n",
              "  <thead>\n",
              "    <tr style=\"text-align: right;\">\n",
              "      <th></th>\n",
              "      <th>post_trustworthy</th>\n",
              "      <th>post_accurate</th>\n",
              "      <th>like_post</th>\n",
              "      <th>share_post</th>\n",
              "      <th>feelings_toward_fb</th>\n",
              "      <th>age</th>\n",
              "    </tr>\n",
              "  </thead>\n",
              "  <tbody>\n",
              "    <tr>\n",
              "      <th>count</th>\n",
              "      <td>2750.000000</td>\n",
              "      <td>2750.000000</td>\n",
              "      <td>2750.000000</td>\n",
              "      <td>2750.000000</td>\n",
              "      <td>2750.000000</td>\n",
              "      <td>2750.000000</td>\n",
              "    </tr>\n",
              "    <tr>\n",
              "      <th>mean</th>\n",
              "      <td>5.256182</td>\n",
              "      <td>5.342655</td>\n",
              "      <td>-0.785127</td>\n",
              "      <td>-1.116255</td>\n",
              "      <td>0.269127</td>\n",
              "      <td>44.933455</td>\n",
              "    </tr>\n",
              "    <tr>\n",
              "      <th>std</th>\n",
              "      <td>2.795857</td>\n",
              "      <td>2.775415</td>\n",
              "      <td>3.341250</td>\n",
              "      <td>3.296836</td>\n",
              "      <td>2.474546</td>\n",
              "      <td>40.327248</td>\n",
              "    </tr>\n",
              "    <tr>\n",
              "      <th>min</th>\n",
              "      <td>1.000000</td>\n",
              "      <td>1.000000</td>\n",
              "      <td>-5.000000</td>\n",
              "      <td>-5.000000</td>\n",
              "      <td>-5.000000</td>\n",
              "      <td>4.000000</td>\n",
              "    </tr>\n",
              "    <tr>\n",
              "      <th>25%</th>\n",
              "      <td>2.900000</td>\n",
              "      <td>3.000000</td>\n",
              "      <td>-4.200000</td>\n",
              "      <td>-4.700000</td>\n",
              "      <td>-1.500000</td>\n",
              "      <td>32.000000</td>\n",
              "    </tr>\n",
              "    <tr>\n",
              "      <th>50%</th>\n",
              "      <td>5.300000</td>\n",
              "      <td>5.400000</td>\n",
              "      <td>-0.500000</td>\n",
              "      <td>-1.200000</td>\n",
              "      <td>0.000000</td>\n",
              "      <td>42.000000</td>\n",
              "    </tr>\n",
              "    <tr>\n",
              "      <th>75%</th>\n",
              "      <td>7.500000</td>\n",
              "      <td>7.600000</td>\n",
              "      <td>2.000000</td>\n",
              "      <td>1.400000</td>\n",
              "      <td>2.200000</td>\n",
              "      <td>56.000000</td>\n",
              "    </tr>\n",
              "    <tr>\n",
              "      <th>max</th>\n",
              "      <td>10.000000</td>\n",
              "      <td>10.000000</td>\n",
              "      <td>5.000000</td>\n",
              "      <td>5.000000</td>\n",
              "      <td>5.000000</td>\n",
              "      <td>1964.000000</td>\n",
              "    </tr>\n",
              "  </tbody>\n",
              "</table>\n",
              "</div>"
            ],
            "text/plain": [
              "       post_trustworthy  post_accurate  ...  feelings_toward_fb          age\n",
              "count       2750.000000    2750.000000  ...         2750.000000  2750.000000\n",
              "mean           5.256182       5.342655  ...            0.269127    44.933455\n",
              "std            2.795857       2.775415  ...            2.474546    40.327248\n",
              "min            1.000000       1.000000  ...           -5.000000     4.000000\n",
              "25%            2.900000       3.000000  ...           -1.500000    32.000000\n",
              "50%            5.300000       5.400000  ...            0.000000    42.000000\n",
              "75%            7.500000       7.600000  ...            2.200000    56.000000\n",
              "max           10.000000      10.000000  ...            5.000000  1964.000000\n",
              "\n",
              "[8 rows x 6 columns]"
            ]
          },
          "metadata": {
            "tags": []
          },
          "execution_count": 5
        },
        {
          "output_type": "stream",
          "text": [
            "{'Breitbart', 'InfoWars', 'Natural News'}\n",
            "{'NASA', 'Scientific American', 'USA Today'}\n",
            "{'Control', 'Enhanced Guidelines', 'Guidelines'}\n"
          ],
          "name": "stdout"
        },
        {
          "output_type": "execute_result",
          "data": {
            "text/html": [
              "<div>\n",
              "<style scoped>\n",
              "    .dataframe tbody tr th:only-of-type {\n",
              "        vertical-align: middle;\n",
              "    }\n",
              "\n",
              "    .dataframe tbody tr th {\n",
              "        vertical-align: top;\n",
              "    }\n",
              "\n",
              "    .dataframe thead th {\n",
              "        text-align: right;\n",
              "    }\n",
              "</style>\n",
              "<table border=\"1\" class=\"dataframe\">\n",
              "  <thead>\n",
              "    <tr style=\"text-align: right;\">\n",
              "      <th></th>\n",
              "      <th>post_trustworthy</th>\n",
              "      <th>post_accurate</th>\n",
              "      <th>like_post</th>\n",
              "      <th>share_post</th>\n",
              "      <th>feelings_toward_fb</th>\n",
              "      <th>age</th>\n",
              "    </tr>\n",
              "  </thead>\n",
              "  <tbody>\n",
              "    <tr>\n",
              "      <th>count</th>\n",
              "      <td>2750.000000</td>\n",
              "      <td>2750.000000</td>\n",
              "      <td>2750.000000</td>\n",
              "      <td>2750.000000</td>\n",
              "      <td>2750.000000</td>\n",
              "      <td>2750.000000</td>\n",
              "    </tr>\n",
              "    <tr>\n",
              "      <th>mean</th>\n",
              "      <td>5.256182</td>\n",
              "      <td>5.342655</td>\n",
              "      <td>-0.785127</td>\n",
              "      <td>-1.116255</td>\n",
              "      <td>0.269127</td>\n",
              "      <td>44.933455</td>\n",
              "    </tr>\n",
              "    <tr>\n",
              "      <th>std</th>\n",
              "      <td>2.795857</td>\n",
              "      <td>2.775415</td>\n",
              "      <td>3.341250</td>\n",
              "      <td>3.296836</td>\n",
              "      <td>2.474546</td>\n",
              "      <td>40.327248</td>\n",
              "    </tr>\n",
              "    <tr>\n",
              "      <th>min</th>\n",
              "      <td>1.000000</td>\n",
              "      <td>1.000000</td>\n",
              "      <td>-5.000000</td>\n",
              "      <td>-5.000000</td>\n",
              "      <td>-5.000000</td>\n",
              "      <td>4.000000</td>\n",
              "    </tr>\n",
              "    <tr>\n",
              "      <th>25%</th>\n",
              "      <td>2.900000</td>\n",
              "      <td>3.000000</td>\n",
              "      <td>-4.200000</td>\n",
              "      <td>-4.700000</td>\n",
              "      <td>-1.500000</td>\n",
              "      <td>32.000000</td>\n",
              "    </tr>\n",
              "    <tr>\n",
              "      <th>50%</th>\n",
              "      <td>5.300000</td>\n",
              "      <td>5.400000</td>\n",
              "      <td>-0.500000</td>\n",
              "      <td>-1.200000</td>\n",
              "      <td>0.000000</td>\n",
              "      <td>42.000000</td>\n",
              "    </tr>\n",
              "    <tr>\n",
              "      <th>75%</th>\n",
              "      <td>7.500000</td>\n",
              "      <td>7.600000</td>\n",
              "      <td>2.000000</td>\n",
              "      <td>1.400000</td>\n",
              "      <td>2.200000</td>\n",
              "      <td>56.000000</td>\n",
              "    </tr>\n",
              "    <tr>\n",
              "      <th>max</th>\n",
              "      <td>10.000000</td>\n",
              "      <td>10.000000</td>\n",
              "      <td>5.000000</td>\n",
              "      <td>5.000000</td>\n",
              "      <td>5.000000</td>\n",
              "      <td>1964.000000</td>\n",
              "    </tr>\n",
              "  </tbody>\n",
              "</table>\n",
              "</div>"
            ],
            "text/plain": [
              "       post_trustworthy  post_accurate  ...  feelings_toward_fb          age\n",
              "count       2750.000000    2750.000000  ...         2750.000000  2750.000000\n",
              "mean           5.256182       5.342655  ...            0.269127    44.933455\n",
              "std            2.795857       2.775415  ...            2.474546    40.327248\n",
              "min            1.000000       1.000000  ...           -5.000000     4.000000\n",
              "25%            2.900000       3.000000  ...           -1.500000    32.000000\n",
              "50%            5.300000       5.400000  ...            0.000000    42.000000\n",
              "75%            7.500000       7.600000  ...            2.200000    56.000000\n",
              "max           10.000000      10.000000  ...            5.000000  1964.000000\n",
              "\n",
              "[8 rows x 6 columns]"
            ]
          },
          "metadata": {
            "tags": []
          },
          "execution_count": 13
        }
      ]
    },
    {
      "cell_type": "code",
      "metadata": {
        "id": "I__QNxXQUbWs",
        "colab_type": "code",
        "colab": {}
      },
      "source": [
        "# trust is an average of trustworthy and accurate\n",
        "data_clean['post_trust'] = (data_clean['post_trustworthy'] + data_clean['post_accurate'])/2\n",
        "\n",
        "# sharing metric was converted from [-5 to 5] to [1 to 11]\n",
        "data_clean['share_post'] = data_clean['share_post'] + 6\n",
        "data_clean.to_csv('drive/My Drive/Causal Inference Project/Lutzke_2019/Data_GEC_clean_python_friendly.csv')"
      ],
      "execution_count": 0,
      "outputs": []
    },
    {
      "cell_type": "markdown",
      "metadata": {
        "id": "zU656FDNB52f",
        "colab_type": "text"
      },
      "source": [
        "Recreate the results running the anova test (descriptives and tests). Only did this for sharing and trust since those were significant effects."
      ]
    },
    {
      "cell_type": "code",
      "metadata": {
        "id": "FWGeDZjHBrqM",
        "colab_type": "code",
        "outputId": "1c3d20e4-b767-4f0b-c389-ce11ead86949",
        "colab": {
          "base_uri": "https://localhost:8080/",
          "height": 1000
        }
      },
      "source": [
        "print(\"\\n\\n Trust =================\\n\")\n",
        "print(data_clean.groupby(by = ['post_type', 'condition']).post_trust.describe())\n",
        "print(\"\\n\\n\")\n",
        "formula = 'post_trust ~ C(post_type) + C(condition) + C(post_type):C(condition)'\n",
        "model = ols(formula, data_clean).fit()\n",
        "trust_table = anova_lm(model, typ=1)\n",
        "print(trust_table)\n",
        "\n",
        "print(\"\\n\\n Share =================\\n\")\n",
        "print(data_clean.groupby(by = ['post_type', 'condition']).share_post.describe())\n",
        "print(\"\\n\\n\")\n",
        "formula = 'share_post ~ C(post_type) + C(condition) + C(post_type):C(condition)'\n",
        "model = ols(formula, data_clean).fit()\n",
        "share_table = anova_lm(model, typ=1)\n",
        "print(share_table)\n"
      ],
      "execution_count": 0,
      "outputs": [
        {
          "output_type": "stream",
          "text": [
            "\n",
            "\n",
            " Trust =================\n",
            "\n",
            "                               count      mean       std  ...    50%   75%   max\n",
            "post_type condition                                       ...                   \n",
            "Fake      Control              477.0  4.276625  2.550180  ...  4.000  6.05  10.0\n",
            "          Enhanced Guidelines  456.0  4.029605  2.437690  ...  3.775  5.80  10.0\n",
            "          Guidelines           464.0  3.932220  2.597085  ...  3.175  5.65  10.0\n",
            "Real      Control              457.0  6.376039  2.341511  ...  6.450  8.20  10.0\n",
            "          Enhanced Guidelines  443.0  6.604853  2.267273  ...  6.850  8.25  10.0\n",
            "          Guidelines           453.0  6.692274  2.397770  ...  7.100  8.55  10.0\n",
            "\n",
            "[6 rows x 8 columns]\n",
            "\n",
            "\n",
            "\n",
            "                               df        sum_sq  ...           F         PR(>F)\n",
            "C(post_type)                  1.0   4211.082600  ...  709.206750  3.527257e-139\n",
            "C(condition)                  2.0      0.191559  ...    0.016131   9.839988e-01\n",
            "C(post_type):C(condition)     2.0     53.806747  ...    4.530914   1.085153e-02\n",
            "Residual                   2744.0  16293.148163  ...         NaN            NaN\n",
            "\n",
            "[4 rows x 5 columns]\n",
            "\n",
            "\n",
            " Share =================\n",
            "\n",
            "                               count      mean       std  ...   50%    75%   max\n",
            "post_type condition                                       ...                   \n",
            "Fake      Control              477.0  4.506918  3.323644  ...  3.80  6.500  11.0\n",
            "          Enhanced Guidelines  456.0  3.775439  3.026907  ...  2.75  6.000  11.0\n",
            "          Guidelines           464.0  4.001724  3.239510  ...  2.80  6.025  11.0\n",
            "Real      Control              457.0  5.652954  3.198416  ...  6.00  8.300  11.0\n",
            "          Enhanced Guidelines  443.0  5.647178  3.208763  ...  6.00  8.250  11.0\n",
            "          Guidelines           453.0  5.777042  3.154818  ...  6.00  8.200  11.0\n",
            "\n",
            "[6 rows x 8 columns]\n",
            "\n",
            "\n",
            "\n",
            "                               df        sum_sq  ...           F        PR(>F)\n",
            "C(post_type)                  1.0   1742.547511  ...  170.767738  6.647713e-38\n",
            "C(condition)                  2.0     64.657354  ...    3.168175  4.223430e-02\n",
            "C(post_type):C(condition)     2.0     71.704133  ...    3.513463  2.992766e-02\n",
            "Residual                   2744.0  28000.314424  ...         NaN           NaN\n",
            "\n",
            "[4 rows x 5 columns]\n",
            "\n",
            "\n",
            " Trust =================\n",
            "\n",
            "                               count      mean       std  ...    50%   75%   max\n",
            "post_type condition                                       ...                   \n",
            "Fake      Control              477.0  4.276625  2.550180  ...  4.000  6.05  10.0\n",
            "          Enhanced Guidelines  456.0  4.029605  2.437690  ...  3.775  5.80  10.0\n",
            "          Guidelines           464.0  3.932220  2.597085  ...  3.175  5.65  10.0\n",
            "Real      Control              457.0  6.376039  2.341511  ...  6.450  8.20  10.0\n",
            "          Enhanced Guidelines  443.0  6.604853  2.267273  ...  6.850  8.25  10.0\n",
            "          Guidelines           453.0  6.692274  2.397770  ...  7.100  8.55  10.0\n",
            "\n",
            "[6 rows x 8 columns]\n",
            "\n",
            "\n",
            "\n",
            "                               df        sum_sq  ...           F         PR(>F)\n",
            "C(post_type)                  1.0   4211.082600  ...  709.206750  3.527257e-139\n",
            "C(condition)                  2.0      0.191559  ...    0.016131   9.839988e-01\n",
            "C(post_type):C(condition)     2.0     53.806747  ...    4.530914   1.085153e-02\n",
            "Residual                   2744.0  16293.148163  ...         NaN            NaN\n",
            "\n",
            "[4 rows x 5 columns]\n",
            "\n",
            "\n",
            " Share =================\n",
            "\n",
            "                               count      mean       std  ...   50%    75%   max\n",
            "post_type condition                                       ...                   \n",
            "Fake      Control              477.0  4.506918  3.323644  ...  3.80  6.500  11.0\n",
            "          Enhanced Guidelines  456.0  3.775439  3.026907  ...  2.75  6.000  11.0\n",
            "          Guidelines           464.0  4.001724  3.239510  ...  2.80  6.025  11.0\n",
            "Real      Control              457.0  5.652954  3.198416  ...  6.00  8.300  11.0\n",
            "          Enhanced Guidelines  443.0  5.647178  3.208763  ...  6.00  8.250  11.0\n",
            "          Guidelines           453.0  5.777042  3.154818  ...  6.00  8.200  11.0\n",
            "\n",
            "[6 rows x 8 columns]\n",
            "\n",
            "\n",
            "\n",
            "                               df        sum_sq  ...           F        PR(>F)\n",
            "C(post_type)                  1.0   1742.547511  ...  170.767738  6.647713e-38\n",
            "C(condition)                  2.0     64.657354  ...    3.168175  4.223430e-02\n",
            "C(post_type):C(condition)     2.0     71.704133  ...    3.513463  2.992766e-02\n",
            "Residual                   2744.0  28000.314424  ...         NaN           NaN\n",
            "\n",
            "[4 rows x 5 columns]\n"
          ],
          "name": "stdout"
        }
      ]
    },
    {
      "cell_type": "markdown",
      "metadata": {
        "id": "_o9WxKxEWsy6",
        "colab_type": "text"
      },
      "source": [
        "Let's take this one step further and get actual estimates for the treatment effect for our quantities of interest, find confidence bounds and significance values based on bootstrap methodology."
      ]
    },
    {
      "cell_type": "code",
      "metadata": {
        "id": "UYzjm6Nj-Mht",
        "colab_type": "code",
        "colab": {}
      },
      "source": [
        "data_fake = data_clean[data_clean.post_type == 'Fake']\n",
        "bootstrap_fn = lambda x: pd.DataFrame(x.values[np.random.randint(len(x), \n",
        "                                                                 size=len(x))], \n",
        "                                      columns=x.columns)\n",
        "bootstraps = [bootstrap_fn(data_fake) for i in range(0, 1000)]"
      ],
      "execution_count": 0,
      "outputs": []
    },
    {
      "cell_type": "code",
      "metadata": {
        "id": "jwIJQ8JJWr4H",
        "colab_type": "code",
        "outputId": "3e5d614f-e59f-481c-859b-fb4b8cd19649",
        "cellView": "code",
        "colab": {
          "base_uri": "https://localhost:8080/",
          "height": 994
        }
      },
      "source": [
        "#@title Default title text\n",
        "mean_trust_enguideline_bs = np.array([df.post_trust[df.condition == 'Enhanced Guidelines'].mean() for df in bootstraps])\n",
        "mean_trust_control_bs = np.array([df.post_trust[df.condition == 'Control'].mean() for df in bootstraps])\n",
        "\n",
        "mean_share_enguideline_bs = np.array([df.share_post[df.condition == 'Enhanced Guidelines'].mean() for df in bootstraps])\n",
        "mean_share_control_bs = np.array([df.share_post[df.condition == 'Control'].mean() for df in bootstraps])\n",
        "\n",
        "def calculate_distribution(np_array):\n",
        "  # calculate 95% conf interval (2-sided)\n",
        "  upper_95 = np.quantile(np_array, 0.975)\n",
        "  lower_95 = np.quantile(np_array, 0.025)\n",
        "  # median point estimate\n",
        "  median = np.quantile(np_array, 0.5)\n",
        "  # max val\n",
        "  max_val = np.max(np_array)\n",
        "  min_val = np.min(np_array)\n",
        "  return {'upper 95% CI': upper_95,\\\n",
        "          'lower 95% CI': lower_95,\\\n",
        "          'median': median,\\\n",
        "          'max': max_val,\\\n",
        "          'min': min_val}\n",
        "\n",
        "print(\"\\n\\nTrust Fake (Control) ==========\\n\\n\")\n",
        "print(calculate_distribution(mean_trust_control_bs))\n",
        "print(\"\\n\\nTrust Fake (Enhanced Guidelines) ==========\\n\\n\")\n",
        "print(calculate_distribution(mean_trust_enguideline_bs))\n",
        "plt.title (\"Difference between Enhanced Guidelines and Control (Trust)\")\n",
        "plt.xlabel(\"Survey rating\")\n",
        "plt.ylabel(\"Frequency\")\n",
        "plt.hist(mean_trust_enguideline_bs)\n",
        "plt.hist(mean_trust_control_bs)\n",
        "plt.legend(['Test', 'Control'])\n",
        "plt.show()\n",
        "\n",
        "print(\"\\n\\nShare Fake (Control) ==========\\n\\n\")\n",
        "print(calculate_distribution(mean_share_control_bs))\n",
        "print(\"\\n\\nShare Fake (Enhanced Guidelines) ==========\\n\\n\")\n",
        "print(calculate_distribution(mean_share_enguideline_bs))\n",
        "plt.title (\"Difference between Enhanced Guidelines and Control (Share)\")\n",
        "plt.xlabel(\"Survey rating\")\n",
        "plt.ylabel(\"Frequency\")\n",
        "plt.hist(mean_share_enguideline_bs)\n",
        "plt.hist(mean_share_control_bs)\n",
        "plt.legend(['Test', 'Control'])\n",
        "plt.show()\n",
        "#Find the probability of seeing the test data given control\n"
      ],
      "execution_count": 0,
      "outputs": [
        {
          "output_type": "stream",
          "text": [
            "\n",
            "\n",
            "Trust Fake (Control) ==========\n",
            "\n",
            "\n",
            "{'upper 95% CI': 4.500589433886508, 'lower 95% CI': 4.063963886505087, 'median': 4.270298898804991, 'max': 4.599671052631573, 'min': 3.8786016949152553}\n",
            "\n",
            "\n",
            "Trust Fake (Enhanced Guidelines) ==========\n",
            "\n",
            "\n",
            "{'upper 95% CI': 4.238327884709575, 'lower 95% CI': 3.804047099615305, 'median': 4.02715249554497, 'max': 4.385609243697475, 'min': 3.6906320541760724}\n"
          ],
          "name": "stdout"
        },
        {
          "output_type": "display_data",
          "data": {
            "image/png": "[encoded data removed]",
            "text/plain": [
              "<Figure size 432x288 with 1 Axes>"
            ]
          },
          "metadata": {
            "tags": []
          }
        },
        {
          "output_type": "stream",
          "text": [
            "\n",
            "\n",
            "Share Fake (Control) ==========\n",
            "\n",
            "\n",
            "{'upper 95% CI': 4.798305885062765, 'lower 95% CI': 4.2081405756405745, 'median': 4.512795220037038, 'max': 5.111482254697287, 'min': 4.007337526205454}\n",
            "\n",
            "\n",
            "Share Fake (Enhanced Guidelines) ==========\n",
            "\n",
            "\n",
            "{'upper 95% CI': 4.046330232306362, 'lower 95% CI': 3.5073145776996375, 'median': 3.769219694788365, 'max': 4.298823529411763, 'min': 3.267375886524821}\n"
          ],
          "name": "stdout"
        },
        {
          "output_type": "display_data",
          "data": {
            "image/png": "[encoded data removed]",
            "text/plain": [
              "<Figure size 432x288 with 1 Axes>"
            ]
          },
          "metadata": {
            "tags": []
          }
        }
      ]
    },
    {
      "cell_type": "code",
      "metadata": {
        "id": "r50TEfjmhEEW",
        "colab_type": "code",
        "colab": {}
      },
      "source": [
        "# Creates normal KDEs out of two distributions and finds % overlap\n",
        "def intersect_two_normal(data1, data2):\n",
        "\n",
        "    def prob_value(bins, mu, sigma):\n",
        "        output = 1/(sigma * np.sqrt(2 * np.pi))\n",
        "        output *= np.exp( - (bins - mu)**2 / (2 * sigma**2))\n",
        "        return output\n",
        "    \n",
        "    # mean, s.e.\n",
        "    mu_s, sigma_s = np.mean(data1), np.std(data1)\n",
        "    mu_pos, sigma_pos = np.mean(data2), np.std(data2)\n",
        "    \n",
        "    # probability of given bins value\n",
        "    bins = np.arange(min(min(data1), min(data2)), \n",
        "                     max(max(data1), max(data2))+0.01, 0.1)\n",
        "    value_s = prob_value(bins, mu_s, sigma_s)\n",
        "    value_pos = prob_value(bins, mu_pos, sigma_pos)                                    \n",
        "\n",
        "    # calcuate overlap\n",
        "    overlap = 0\n",
        "    for i, b in enumerate(bins):\n",
        "        overlap+= min(value_s[i], value_pos[i])*0.1\n",
        "    \n",
        "    # draw plot\n",
        "    plt.hist(data1, 10, density=True)\n",
        "    plt.plot(bins, value_s, linewidth=2, color='r', label=\"data1\")\n",
        "    plt.hist(data2, 10, density=True)\n",
        "    plt.plot(bins, value_pos, linewidth=2, color='g', label=\"data2\")\n",
        "    plt.legend()\n",
        "    \n",
        "    return overlap\n",
        "  \n"
      ],
      "execution_count": 0,
      "outputs": []
    },
    {
      "cell_type": "code",
      "metadata": {
        "id": "2RpR682V287Y",
        "colab_type": "code",
        "outputId": "1c79becc-3c12-4b98-ad62-db5d2e2376dd",
        "colab": {
          "base_uri": "https://localhost:8080/",
          "height": 265
        }
      },
      "source": [
        "# test intersect_two_normal\n",
        "# creates normal KDE to find % overlap\n",
        "overlap = intersect_two_normal(mean_trust_enguideline_bs, mean_trust_control_bs)"
      ],
      "execution_count": 0,
      "outputs": [
        {
          "output_type": "display_data",
          "data": {
            "image/png": "[encoded data removed]",
            "text/plain": [
              "<Figure size 432x288 with 1 Axes>"
            ]
          },
          "metadata": {
            "tags": []
          }
        }
      ]
    },
    {
      "cell_type": "code",
      "metadata": {
        "id": "3ydYGLQw4BFu",
        "colab_type": "code",
        "outputId": "7908e702-f7a8-43b5-e3fe-d032ac769a1e",
        "colab": {
          "base_uri": "https://localhost:8080/",
          "height": 50
        }
      },
      "source": [
        "# Also calculate p-value in the traditional way: probability of observing the test estimate or more extreme within the control distribution\n",
        "\n",
        "# calculate # of control simulations below test estimate out of all control simulations\n",
        "test_estimate = np.quantile(mean_trust_enguideline_bs, 0.5)\n",
        "p_value = len([i for i in mean_trust_control_bs if i <= test_estimate])/len(mean_trust_control_bs)\n",
        "print(\"overlap is: \", round(overlap, 3))\n",
        "print(\"p-value is: \", p_value)\n"
      ],
      "execution_count": 0,
      "outputs": [
        {
          "output_type": "stream",
          "text": [
            "overlap is:  0.273\n",
            "p-value is:  0.008\n"
          ],
          "name": "stdout"
        }
      ]
    },
    {
      "cell_type": "code",
      "metadata": {
        "id": "9ISjBa8Z8Lb3",
        "colab_type": "code",
        "outputId": "b5f98d28-cd7a-4f60-fe68-2a49d02c0cca",
        "colab": {
          "base_uri": "https://localhost:8080/",
          "height": 234
        }
      },
      "source": [
        "data_clean.columns"
      ],
      "execution_count": 0,
      "outputs": [
        {
          "output_type": "execute_result",
          "data": {
            "text/plain": [
              "Index(['deleted_responses', 'condition', 'article', 'consent', 'consent2',\n",
              "       'have_facebook_q', 'believe_climate_change_q', 'believer_doubter',\n",
              "       'post_trustworthy', 'post_accurate', 'like_post', 'share_post',\n",
              "       'recognize_source', 'burning_oil_co2', 'nuclear_power_co2',\n",
              "       'co2_methane', 'global_co2_increase', 'climate_change_human_activities',\n",
              "       'last_century_global_increase', 'today_concentration_already_occured',\n",
              "       'scientists_expect_warming_increase_melting',\n",
              "       'scientists_expect_increase_extreme_events',\n",
              "       'scientists_expect_increase_water_evap',\n",
              "       'scientists_expect_climate_change_evenly', 'feelings_toward_fb',\n",
              "       'gender', 'gender_text', 'age', 'education', 'politics',\n",
              "       'politics_text', 'conservative', 'post_type', 'post_trust'],\n",
              "      dtype='object')"
            ]
          },
          "metadata": {
            "tags": []
          },
          "execution_count": 21
        }
      ]
    },
    {
      "cell_type": "code",
      "metadata": {
        "id": "ZGJvHkeY70zY",
        "colab_type": "code",
        "outputId": "b76602e7-aae0-476c-f1cd-f8898d15cad7",
        "colab": {
          "base_uri": "https://localhost:8080/",
          "height": 1000
        }
      },
      "source": [
        "# DON'T RERUN - CREATES THE MISSING COVARIATE DATASETS\n",
        "# create function to randomize missing data points\n",
        "# Sensitivity to different levels of missingness:\n",
        "# [10%, 20%, 30%, 40%, 50%, 60%, 70%, 80%]\n",
        "\n",
        "def create_missing_points(data, percent_missing, covariate_names):\n",
        "  \"\"\" \n",
        "  This function WILL modify data. Please make a\n",
        "  copy before passing into this function\n",
        "\n",
        "  data: a pandas dataframe\n",
        "  percent_missing: float, % of points missing\n",
        "  covariate_names: list of strings, names of covariates to insert missing values,\n",
        "  must be present in data \n",
        "  \"\"\"\n",
        "  data = data.copy()\n",
        "  for covariate in covariate_names:\n",
        "    print(\"Working on column: \", covariate)\n",
        "    data = data.sample(frac=1).reset_index(drop=True)\n",
        "    for i in range(0, len(data)):\n",
        "      if i <= percent_missing*len(data):\n",
        "        data.loc[i, covariate] = None \n",
        "  return data\n",
        "\n",
        "\n",
        "covariate_names = [\"have_facebook_q\",\\\n",
        "                    \"believe_climate_change_q\",\\\n",
        "                    \"believer_doubter\",\\\n",
        "                    \"burning_oil_co2\",\\\n",
        "                    \"nuclear_power_co2\",\\\n",
        "                    \"co2_methane\",\\\n",
        "                    \"global_co2_increase\",\\\n",
        "                    \"climate_change_human_activities\",\\\n",
        "                    \"last_century_global_increase\",\\\n",
        "                    \"today_concentration_already_occured\",\\\n",
        "                    'scientists_expect_warming_increase_melting',\\\n",
        "                    'scientists_expect_increase_extreme_events',\\\n",
        "                    'scientists_expect_increase_water_evap',\\\n",
        "                    'scientists_expect_climate_change_evenly',\\\n",
        "                    'feelings_toward_fb',\\\n",
        "                    'gender', 'age', 'education',\\\n",
        "                    'politics', 'conservative']\n",
        "\n",
        "# data_clean_missing_10 = data_clean.copy()\n",
        "# data_clean_missing_10 = create_missing_points(data_clean_missing_10,\\\n",
        "#                                              .1,\\\n",
        "#                                              covariate_names)\n",
        "# data_clean_missing_10.head()\n",
        "\n",
        "for percent in [.1, .2, .3, .4, .5, .6, .7, .8]:\n",
        "  data_clean_missing = create_missing_points(data_clean,\\\n",
        "                                              percent,\\\n",
        "                                              covariate_names)\n",
        "  data_clean_missing.to_csv('drive/My Drive/Causal Inference Project/Lutzke_2019/data_clean_missing' + str(int(percent*100)) + '.csv', index=False)\n"
      ],
      "execution_count": 0,
      "outputs": [
        {
          "output_type": "stream",
          "text": [
            "Working on column:  have_facebook_q\n",
            "Working on column:  believe_climate_change_q\n",
            "Working on column:  believer_doubter\n",
            "Working on column:  burning_oil_co2\n",
            "Working on column:  nuclear_power_co2\n",
            "Working on column:  co2_methane\n",
            "Working on column:  global_co2_increase\n",
            "Working on column:  climate_change_human_activities\n",
            "Working on column:  last_century_global_increase\n",
            "Working on column:  today_concentration_already_occured\n",
            "Working on column:  scientists_expect_warming_increase_melting\n",
            "Working on column:  scientists_expect_increase_extreme_events\n",
            "Working on column:  scientists_expect_increase_water_evap\n",
            "Working on column:  scientists_expect_climate_change_evenly\n",
            "Working on column:  feelings_toward_fb\n",
            "Working on column:  gender\n",
            "Working on column:  age\n",
            "Working on column:  education\n",
            "Working on column:  politics\n",
            "Working on column:  conservative\n",
            "Working on column:  have_facebook_q\n",
            "Working on column:  believe_climate_change_q\n",
            "Working on column:  believer_doubter\n",
            "Working on column:  burning_oil_co2\n",
            "Working on column:  nuclear_power_co2\n",
            "Working on column:  co2_methane\n",
            "Working on column:  global_co2_increase\n",
            "Working on column:  climate_change_human_activities\n",
            "Working on column:  last_century_global_increase\n",
            "Working on column:  today_concentration_already_occured\n",
            "Working on column:  scientists_expect_warming_increase_melting\n",
            "Working on column:  scientists_expect_increase_extreme_events\n",
            "Working on column:  scientists_expect_increase_water_evap\n",
            "Working on column:  scientists_expect_climate_change_evenly\n",
            "Working on column:  feelings_toward_fb\n",
            "Working on column:  gender\n",
            "Working on column:  age\n",
            "Working on column:  education\n",
            "Working on column:  politics\n",
            "Working on column:  conservative\n",
            "Working on column:  have_facebook_q\n",
            "Working on column:  believe_climate_change_q\n",
            "Working on column:  believer_doubter\n",
            "Working on column:  burning_oil_co2\n",
            "Working on column:  nuclear_power_co2\n",
            "Working on column:  co2_methane\n",
            "Working on column:  global_co2_increase\n",
            "Working on column:  climate_change_human_activities\n",
            "Working on column:  last_century_global_increase\n",
            "Working on column:  today_concentration_already_occured\n",
            "Working on column:  scientists_expect_warming_increase_melting\n",
            "Working on column:  scientists_expect_increase_extreme_events\n",
            "Working on column:  scientists_expect_increase_water_evap\n",
            "Working on column:  scientists_expect_climate_change_evenly\n",
            "Working on column:  feelings_toward_fb\n",
            "Working on column:  gender\n",
            "Working on column:  age\n",
            "Working on column:  education\n",
            "Working on column:  politics\n",
            "Working on column:  conservative\n",
            "Working on column:  have_facebook_q\n",
            "Working on column:  believe_climate_change_q\n",
            "Working on column:  believer_doubter\n",
            "Working on column:  burning_oil_co2\n",
            "Working on column:  nuclear_power_co2\n",
            "Working on column:  co2_methane\n",
            "Working on column:  global_co2_increase\n",
            "Working on column:  climate_change_human_activities\n",
            "Working on column:  last_century_global_increase\n",
            "Working on column:  today_concentration_already_occured\n",
            "Working on column:  scientists_expect_warming_increase_melting\n",
            "Working on column:  scientists_expect_increase_extreme_events\n",
            "Working on column:  scientists_expect_increase_water_evap\n",
            "Working on column:  scientists_expect_climate_change_evenly\n",
            "Working on column:  feelings_toward_fb\n",
            "Working on column:  gender\n",
            "Working on column:  age\n",
            "Working on column:  education\n",
            "Working on column:  politics\n",
            "Working on column:  conservative\n",
            "Working on column:  have_facebook_q\n",
            "Working on column:  believe_climate_change_q\n",
            "Working on column:  believer_doubter\n",
            "Working on column:  burning_oil_co2\n",
            "Working on column:  nuclear_power_co2\n",
            "Working on column:  co2_methane\n",
            "Working on column:  global_co2_increase\n",
            "Working on column:  climate_change_human_activities\n",
            "Working on column:  last_century_global_increase\n",
            "Working on column:  today_concentration_already_occured\n",
            "Working on column:  scientists_expect_warming_increase_melting\n",
            "Working on column:  scientists_expect_increase_extreme_events\n",
            "Working on column:  scientists_expect_increase_water_evap\n",
            "Working on column:  scientists_expect_climate_change_evenly\n",
            "Working on column:  feelings_toward_fb\n",
            "Working on column:  gender\n",
            "Working on column:  age\n",
            "Working on column:  education\n",
            "Working on column:  politics\n",
            "Working on column:  conservative\n",
            "Working on column:  have_facebook_q\n",
            "Working on column:  believe_climate_change_q\n",
            "Working on column:  believer_doubter\n",
            "Working on column:  burning_oil_co2\n",
            "Working on column:  nuclear_power_co2\n",
            "Working on column:  co2_methane\n",
            "Working on column:  global_co2_increase\n",
            "Working on column:  climate_change_human_activities\n",
            "Working on column:  last_century_global_increase\n",
            "Working on column:  today_concentration_already_occured\n",
            "Working on column:  scientists_expect_warming_increase_melting\n",
            "Working on column:  scientists_expect_increase_extreme_events\n",
            "Working on column:  scientists_expect_increase_water_evap\n",
            "Working on column:  scientists_expect_climate_change_evenly\n",
            "Working on column:  feelings_toward_fb\n",
            "Working on column:  gender\n",
            "Working on column:  age\n",
            "Working on column:  education\n",
            "Working on column:  politics\n",
            "Working on column:  conservative\n",
            "Working on column:  have_facebook_q\n",
            "Working on column:  believe_climate_change_q\n",
            "Working on column:  believer_doubter\n",
            "Working on column:  burning_oil_co2\n",
            "Working on column:  nuclear_power_co2\n",
            "Working on column:  co2_methane\n",
            "Working on column:  global_co2_increase\n",
            "Working on column:  climate_change_human_activities\n",
            "Working on column:  last_century_global_increase\n",
            "Working on column:  today_concentration_already_occured\n",
            "Working on column:  scientists_expect_warming_increase_melting\n",
            "Working on column:  scientists_expect_increase_extreme_events\n",
            "Working on column:  scientists_expect_increase_water_evap\n",
            "Working on column:  scientists_expect_climate_change_evenly\n",
            "Working on column:  feelings_toward_fb\n",
            "Working on column:  gender\n",
            "Working on column:  age\n",
            "Working on column:  education\n",
            "Working on column:  politics\n",
            "Working on column:  conservative\n",
            "Working on column:  have_facebook_q\n",
            "Working on column:  believe_climate_change_q\n",
            "Working on column:  believer_doubter\n",
            "Working on column:  burning_oil_co2\n",
            "Working on column:  nuclear_power_co2\n",
            "Working on column:  co2_methane\n",
            "Working on column:  global_co2_increase\n",
            "Working on column:  climate_change_human_activities\n",
            "Working on column:  last_century_global_increase\n",
            "Working on column:  today_concentration_already_occured\n",
            "Working on column:  scientists_expect_warming_increase_melting\n",
            "Working on column:  scientists_expect_increase_extreme_events\n",
            "Working on column:  scientists_expect_increase_water_evap\n",
            "Working on column:  scientists_expect_climate_change_evenly\n",
            "Working on column:  feelings_toward_fb\n",
            "Working on column:  gender\n",
            "Working on column:  age\n",
            "Working on column:  education\n",
            "Working on column:  politics\n",
            "Working on column:  conservative\n"
          ],
          "name": "stdout"
        }
      ]
    },
    {
      "cell_type": "code",
      "metadata": {
        "id": "ZnL9_oQwG4Z4",
        "colab_type": "code",
        "outputId": "212d8f68-b0ef-40d9-8ab7-fbaac59978d8",
        "colab": {
          "base_uri": "https://localhost:8080/",
          "height": 351
        }
      },
      "source": [
        "#Check that it worked\n",
        "data_check = pd.read_csv('drive/My Drive/Causal Inference Project/Lutzke_2019/data_clean_missing80.csv', encoding='ISO-8859-1')\n",
        "sum(data_check[\"have_facebook_q\"].isna())\n",
        "for covariate in covariate_names:\n",
        "  print(covariate,\":\", str(sum(data_check[covariate].isna())/len(data_check)))\n",
        "\n",
        "# check completeneess of base data\n",
        "# for covariate in covariate_names:\n",
        "#   print(covariate,\":\", str(sum(data_clean[covariate].isna())/len(data_clean)))"
      ],
      "execution_count": 0,
      "outputs": [
        {
          "output_type": "stream",
          "text": [
            "have_facebook_q : 0.8003636363636364\n",
            "believe_climate_change_q : 0.8003636363636364\n",
            "believer_doubter : 0.8003636363636364\n",
            "burning_oil_co2 : 0.8003636363636364\n",
            "nuclear_power_co2 : 0.8003636363636364\n",
            "co2_methane : 0.8003636363636364\n",
            "global_co2_increase : 0.8003636363636364\n",
            "climate_change_human_activities : 0.8003636363636364\n",
            "last_century_global_increase : 0.8003636363636364\n",
            "today_concentration_already_occured : 0.8003636363636364\n",
            "scientists_expect_warming_increase_melting : 0.8003636363636364\n",
            "scientists_expect_increase_extreme_events : 0.8003636363636364\n",
            "scientists_expect_increase_water_evap : 0.8003636363636364\n",
            "scientists_expect_climate_change_evenly : 0.8003636363636364\n",
            "feelings_toward_fb : 0.8003636363636364\n",
            "gender : 0.8003636363636364\n",
            "age : 0.8003636363636364\n",
            "education : 0.8003636363636364\n",
            "politics : 0.8003636363636364\n",
            "conservative : 0.8003636363636364\n"
          ],
          "name": "stdout"
        }
      ]
    }
  ]
}